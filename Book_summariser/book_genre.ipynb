{
  "nbformat": 4,
  "nbformat_minor": 0,
  "metadata": {
    "colab": {
      "provenance": []
    },
    "kernelspec": {
      "name": "python3",
      "display_name": "Python 3"
    },
    "language_info": {
      "name": "python"
    }
  },
  "cells": [
    {
      "cell_type": "code",
      "execution_count": 1,
      "metadata": {
        "id": "yq75MejJpP-4"
      },
      "outputs": [],
      "source": [
        "import pandas as pd\n",
        "import nltk as nl\n",
        "import re"
      ]
    },
    {
      "cell_type": "code",
      "source": [
        "import csv\n",
        "data = pd.read_csv('/content/drive/MyDrive/Colab Notebooks/AI/Book_Genre/BooksDataSet.csv',encoding='utf-8')\n",
        "data.head()"
      ],
      "metadata": {
        "colab": {
          "base_uri": "https://localhost:8080/",
          "height": 206
        },
        "id": "HMnc4Doqp4TT",
        "outputId": "a9584bdb-4085-4f78-c5b4-089130ba29ca"
      },
      "execution_count": 2,
      "outputs": [
        {
          "output_type": "execute_result",
          "data": {
            "text/plain": [
              "   Unnamed: 0   book_id                  book_name    genre  \\\n",
              "0           0   3248537          Drowned Wednesday  Fantasy   \n",
              "1           1  27796919              The Lost Hero  Fantasy   \n",
              "2           2   3910776  The Eyes of the Overworld  Fantasy   \n",
              "3           3   5969644            Magic's Promise  Fantasy   \n",
              "4           4   3173445             Taran Wanderer  Fantasy   \n",
              "\n",
              "                                             summary  \n",
              "0   Drowned Wednesday is the first Trustee among ...  \n",
              "1   As the book opens, Jason awakens on a school ...  \n",
              "2   Cugel is easily persuaded by the merchant Fia...  \n",
              "3   The book opens with Herald-Mage Vanyel return...  \n",
              "4   Taran and Gurgi have returned to Caer Dallben...  "
            ],
            "text/html": [
              "\n",
              "  <div id=\"df-70b1d3ff-55b8-45a8-bf31-05bae83cf3e1\" class=\"colab-df-container\">\n",
              "    <div>\n",
              "<style scoped>\n",
              "    .dataframe tbody tr th:only-of-type {\n",
              "        vertical-align: middle;\n",
              "    }\n",
              "\n",
              "    .dataframe tbody tr th {\n",
              "        vertical-align: top;\n",
              "    }\n",
              "\n",
              "    .dataframe thead th {\n",
              "        text-align: right;\n",
              "    }\n",
              "</style>\n",
              "<table border=\"1\" class=\"dataframe\">\n",
              "  <thead>\n",
              "    <tr style=\"text-align: right;\">\n",
              "      <th></th>\n",
              "      <th>Unnamed: 0</th>\n",
              "      <th>book_id</th>\n",
              "      <th>book_name</th>\n",
              "      <th>genre</th>\n",
              "      <th>summary</th>\n",
              "    </tr>\n",
              "  </thead>\n",
              "  <tbody>\n",
              "    <tr>\n",
              "      <th>0</th>\n",
              "      <td>0</td>\n",
              "      <td>3248537</td>\n",
              "      <td>Drowned Wednesday</td>\n",
              "      <td>Fantasy</td>\n",
              "      <td>Drowned Wednesday is the first Trustee among ...</td>\n",
              "    </tr>\n",
              "    <tr>\n",
              "      <th>1</th>\n",
              "      <td>1</td>\n",
              "      <td>27796919</td>\n",
              "      <td>The Lost Hero</td>\n",
              "      <td>Fantasy</td>\n",
              "      <td>As the book opens, Jason awakens on a school ...</td>\n",
              "    </tr>\n",
              "    <tr>\n",
              "      <th>2</th>\n",
              "      <td>2</td>\n",
              "      <td>3910776</td>\n",
              "      <td>The Eyes of the Overworld</td>\n",
              "      <td>Fantasy</td>\n",
              "      <td>Cugel is easily persuaded by the merchant Fia...</td>\n",
              "    </tr>\n",
              "    <tr>\n",
              "      <th>3</th>\n",
              "      <td>3</td>\n",
              "      <td>5969644</td>\n",
              "      <td>Magic's Promise</td>\n",
              "      <td>Fantasy</td>\n",
              "      <td>The book opens with Herald-Mage Vanyel return...</td>\n",
              "    </tr>\n",
              "    <tr>\n",
              "      <th>4</th>\n",
              "      <td>4</td>\n",
              "      <td>3173445</td>\n",
              "      <td>Taran Wanderer</td>\n",
              "      <td>Fantasy</td>\n",
              "      <td>Taran and Gurgi have returned to Caer Dallben...</td>\n",
              "    </tr>\n",
              "  </tbody>\n",
              "</table>\n",
              "</div>\n",
              "    <div class=\"colab-df-buttons\">\n",
              "\n",
              "  <div class=\"colab-df-container\">\n",
              "    <button class=\"colab-df-convert\" onclick=\"convertToInteractive('df-70b1d3ff-55b8-45a8-bf31-05bae83cf3e1')\"\n",
              "            title=\"Convert this dataframe to an interactive table.\"\n",
              "            style=\"display:none;\">\n",
              "\n",
              "  <svg xmlns=\"http://www.w3.org/2000/svg\" height=\"24px\" viewBox=\"0 -960 960 960\">\n",
              "    <path d=\"M120-120v-720h720v720H120Zm60-500h600v-160H180v160Zm220 220h160v-160H400v160Zm0 220h160v-160H400v160ZM180-400h160v-160H180v160Zm440 0h160v-160H620v160ZM180-180h160v-160H180v160Zm440 0h160v-160H620v160Z\"/>\n",
              "  </svg>\n",
              "    </button>\n",
              "\n",
              "  <style>\n",
              "    .colab-df-container {\n",
              "      display:flex;\n",
              "      gap: 12px;\n",
              "    }\n",
              "\n",
              "    .colab-df-convert {\n",
              "      background-color: #E8F0FE;\n",
              "      border: none;\n",
              "      border-radius: 50%;\n",
              "      cursor: pointer;\n",
              "      display: none;\n",
              "      fill: #1967D2;\n",
              "      height: 32px;\n",
              "      padding: 0 0 0 0;\n",
              "      width: 32px;\n",
              "    }\n",
              "\n",
              "    .colab-df-convert:hover {\n",
              "      background-color: #E2EBFA;\n",
              "      box-shadow: 0px 1px 2px rgba(60, 64, 67, 0.3), 0px 1px 3px 1px rgba(60, 64, 67, 0.15);\n",
              "      fill: #174EA6;\n",
              "    }\n",
              "\n",
              "    .colab-df-buttons div {\n",
              "      margin-bottom: 4px;\n",
              "    }\n",
              "\n",
              "    [theme=dark] .colab-df-convert {\n",
              "      background-color: #3B4455;\n",
              "      fill: #D2E3FC;\n",
              "    }\n",
              "\n",
              "    [theme=dark] .colab-df-convert:hover {\n",
              "      background-color: #434B5C;\n",
              "      box-shadow: 0px 1px 3px 1px rgba(0, 0, 0, 0.15);\n",
              "      filter: drop-shadow(0px 1px 2px rgba(0, 0, 0, 0.3));\n",
              "      fill: #FFFFFF;\n",
              "    }\n",
              "  </style>\n",
              "\n",
              "    <script>\n",
              "      const buttonEl =\n",
              "        document.querySelector('#df-70b1d3ff-55b8-45a8-bf31-05bae83cf3e1 button.colab-df-convert');\n",
              "      buttonEl.style.display =\n",
              "        google.colab.kernel.accessAllowed ? 'block' : 'none';\n",
              "\n",
              "      async function convertToInteractive(key) {\n",
              "        const element = document.querySelector('#df-70b1d3ff-55b8-45a8-bf31-05bae83cf3e1');\n",
              "        const dataTable =\n",
              "          await google.colab.kernel.invokeFunction('convertToInteractive',\n",
              "                                                    [key], {});\n",
              "        if (!dataTable) return;\n",
              "\n",
              "        const docLinkHtml = 'Like what you see? Visit the ' +\n",
              "          '<a target=\"_blank\" href=https://colab.research.google.com/notebooks/data_table.ipynb>data table notebook</a>'\n",
              "          + ' to learn more about interactive tables.';\n",
              "        element.innerHTML = '';\n",
              "        dataTable['output_type'] = 'display_data';\n",
              "        await google.colab.output.renderOutput(dataTable, element);\n",
              "        const docLink = document.createElement('div');\n",
              "        docLink.innerHTML = docLinkHtml;\n",
              "        element.appendChild(docLink);\n",
              "      }\n",
              "    </script>\n",
              "  </div>\n",
              "\n",
              "\n",
              "<div id=\"df-3e0e82e9-d8ed-43ff-8fc5-66dbb01318c0\">\n",
              "  <button class=\"colab-df-quickchart\" onclick=\"quickchart('df-3e0e82e9-d8ed-43ff-8fc5-66dbb01318c0')\"\n",
              "            title=\"Suggest charts\"\n",
              "            style=\"display:none;\">\n",
              "\n",
              "<svg xmlns=\"http://www.w3.org/2000/svg\" height=\"24px\"viewBox=\"0 0 24 24\"\n",
              "     width=\"24px\">\n",
              "    <g>\n",
              "        <path d=\"M19 3H5c-1.1 0-2 .9-2 2v14c0 1.1.9 2 2 2h14c1.1 0 2-.9 2-2V5c0-1.1-.9-2-2-2zM9 17H7v-7h2v7zm4 0h-2V7h2v10zm4 0h-2v-4h2v4z\"/>\n",
              "    </g>\n",
              "</svg>\n",
              "  </button>\n",
              "\n",
              "<style>\n",
              "  .colab-df-quickchart {\n",
              "      --bg-color: #E8F0FE;\n",
              "      --fill-color: #1967D2;\n",
              "      --hover-bg-color: #E2EBFA;\n",
              "      --hover-fill-color: #174EA6;\n",
              "      --disabled-fill-color: #AAA;\n",
              "      --disabled-bg-color: #DDD;\n",
              "  }\n",
              "\n",
              "  [theme=dark] .colab-df-quickchart {\n",
              "      --bg-color: #3B4455;\n",
              "      --fill-color: #D2E3FC;\n",
              "      --hover-bg-color: #434B5C;\n",
              "      --hover-fill-color: #FFFFFF;\n",
              "      --disabled-bg-color: #3B4455;\n",
              "      --disabled-fill-color: #666;\n",
              "  }\n",
              "\n",
              "  .colab-df-quickchart {\n",
              "    background-color: var(--bg-color);\n",
              "    border: none;\n",
              "    border-radius: 50%;\n",
              "    cursor: pointer;\n",
              "    display: none;\n",
              "    fill: var(--fill-color);\n",
              "    height: 32px;\n",
              "    padding: 0;\n",
              "    width: 32px;\n",
              "  }\n",
              "\n",
              "  .colab-df-quickchart:hover {\n",
              "    background-color: var(--hover-bg-color);\n",
              "    box-shadow: 0 1px 2px rgba(60, 64, 67, 0.3), 0 1px 3px 1px rgba(60, 64, 67, 0.15);\n",
              "    fill: var(--button-hover-fill-color);\n",
              "  }\n",
              "\n",
              "  .colab-df-quickchart-complete:disabled,\n",
              "  .colab-df-quickchart-complete:disabled:hover {\n",
              "    background-color: var(--disabled-bg-color);\n",
              "    fill: var(--disabled-fill-color);\n",
              "    box-shadow: none;\n",
              "  }\n",
              "\n",
              "  .colab-df-spinner {\n",
              "    border: 2px solid var(--fill-color);\n",
              "    border-color: transparent;\n",
              "    border-bottom-color: var(--fill-color);\n",
              "    animation:\n",
              "      spin 1s steps(1) infinite;\n",
              "  }\n",
              "\n",
              "  @keyframes spin {\n",
              "    0% {\n",
              "      border-color: transparent;\n",
              "      border-bottom-color: var(--fill-color);\n",
              "      border-left-color: var(--fill-color);\n",
              "    }\n",
              "    20% {\n",
              "      border-color: transparent;\n",
              "      border-left-color: var(--fill-color);\n",
              "      border-top-color: var(--fill-color);\n",
              "    }\n",
              "    30% {\n",
              "      border-color: transparent;\n",
              "      border-left-color: var(--fill-color);\n",
              "      border-top-color: var(--fill-color);\n",
              "      border-right-color: var(--fill-color);\n",
              "    }\n",
              "    40% {\n",
              "      border-color: transparent;\n",
              "      border-right-color: var(--fill-color);\n",
              "      border-top-color: var(--fill-color);\n",
              "    }\n",
              "    60% {\n",
              "      border-color: transparent;\n",
              "      border-right-color: var(--fill-color);\n",
              "    }\n",
              "    80% {\n",
              "      border-color: transparent;\n",
              "      border-right-color: var(--fill-color);\n",
              "      border-bottom-color: var(--fill-color);\n",
              "    }\n",
              "    90% {\n",
              "      border-color: transparent;\n",
              "      border-bottom-color: var(--fill-color);\n",
              "    }\n",
              "  }\n",
              "</style>\n",
              "\n",
              "  <script>\n",
              "    async function quickchart(key) {\n",
              "      const quickchartButtonEl =\n",
              "        document.querySelector('#' + key + ' button');\n",
              "      quickchartButtonEl.disabled = true;  // To prevent multiple clicks.\n",
              "      quickchartButtonEl.classList.add('colab-df-spinner');\n",
              "      try {\n",
              "        const charts = await google.colab.kernel.invokeFunction(\n",
              "            'suggestCharts', [key], {});\n",
              "      } catch (error) {\n",
              "        console.error('Error during call to suggestCharts:', error);\n",
              "      }\n",
              "      quickchartButtonEl.classList.remove('colab-df-spinner');\n",
              "      quickchartButtonEl.classList.add('colab-df-quickchart-complete');\n",
              "    }\n",
              "    (() => {\n",
              "      let quickchartButtonEl =\n",
              "        document.querySelector('#df-3e0e82e9-d8ed-43ff-8fc5-66dbb01318c0 button');\n",
              "      quickchartButtonEl.style.display =\n",
              "        google.colab.kernel.accessAllowed ? 'block' : 'none';\n",
              "    })();\n",
              "  </script>\n",
              "</div>\n",
              "\n",
              "    </div>\n",
              "  </div>\n"
            ],
            "application/vnd.google.colaboratory.intrinsic+json": {
              "type": "dataframe",
              "variable_name": "data",
              "summary": "{\n  \"name\": \"data\",\n  \"rows\": 3000,\n  \"fields\": [\n    {\n      \"column\": \"Unnamed: 0\",\n      \"properties\": {\n        \"dtype\": \"number\",\n        \"std\": 866,\n        \"min\": 0,\n        \"max\": 2999,\n        \"num_unique_values\": 3000,\n        \"samples\": [\n          1801,\n          1190,\n          1817\n        ],\n        \"semantic_type\": \"\",\n        \"description\": \"\"\n      }\n    },\n    {\n      \"column\": \"book_id\",\n      \"properties\": {\n        \"dtype\": \"number\",\n        \"std\": 8375374,\n        \"min\": 843,\n        \"max\": 37054020,\n        \"num_unique_values\": 3000,\n        \"samples\": [\n          2795327,\n          9350572,\n          9366759\n        ],\n        \"semantic_type\": \"\",\n        \"description\": \"\"\n      }\n    },\n    {\n      \"column\": \"book_name\",\n      \"properties\": {\n        \"dtype\": \"string\",\n        \"num_unique_values\": 2970,\n        \"samples\": [\n          \"Some of Your Blood\",\n          \"To Fear A Painted Devil\",\n          \"The Wolf's Hour\"\n        ],\n        \"semantic_type\": \"\",\n        \"description\": \"\"\n      }\n    },\n    {\n      \"column\": \"genre\",\n      \"properties\": {\n        \"dtype\": \"category\",\n        \"num_unique_values\": 6,\n        \"samples\": [\n          \"Fantasy\",\n          \"Science Fiction\",\n          \"Thriller\"\n        ],\n        \"semantic_type\": \"\",\n        \"description\": \"\"\n      }\n    },\n    {\n      \"column\": \"summary\",\n      \"properties\": {\n        \"dtype\": \"string\",\n        \"num_unique_values\": 2998,\n        \"samples\": [\n          \" It is Christmas Eve and everyone in the house hears the crashing of furniture, followed by a wailing and hideous scream. When they get to Simeon Lee's room, they find it locked and they have to break the door down. When they finally get through the door, they find heavy furniture overturned and Simeon Lee dead, his throat slit, in a great pool of blood. Superintendent Sugden notices Pilar Estravados pick up something from the floor. She tries to conceal what she picked up, but when pressed, opens her hand to show a small bit of rubber and a small object made of wood. Superintendent Sugden explains that he is in the house by prior arrangement with the victim, who confided to him the theft of a substantial quantity of uncut diamonds from his safe. When Poirot is called in to investigate, there are therefore several main problems: who killed the victim? How was the victim killed inside a locked room? Was the murder connected to the theft of the diamonds? And what is the significance of the small triangle of rubber and the peg that Sugden is able to provide when reminded by Poirot of the clue that had been picked up by Pilar? Poirot\\u2019s investigation explores the nature of the victim \\u2013 a methodical and vengeful man \\u2013 and the way that these characteristics come out in his children. He seems focused on the idea that one of the immediate family is the murderer. When the butler mentions his confusion about the identities of the house guests, Poirot realizes that the four legitimate sons may not be the only heirs of Simeon\\u2019s temperament. The final major clue is dropped by Pilar, who while playing with balloons and one bursts, lets slip that what she found on the floor must also have been a balloon. She knows more than she realizes. Poirot warns her to be careful.\",\n          \" The story opens in the lower levels of Coruscant in 24 ABY, only a few months prior to the Yuuzhan Vong Invasion. Boba Fett has just chased down another bounty, a Rodian art dealer who sold fake works to Gebbu the Hutt. Meanwhile on Nar Shaddaa, Nom Anor, posing under the alias Udelen, recruits a Mandalorian named Goran Beviin to assassinate a politician on Ter Abbes, a grim industrial planet off the Perlemian Trade Route. Bevin quickly realizes that if the man is killed it will trigger a civil war, but even after he voices his misgivings to Boba he still carries out the mission. Nom Anor notes that Bevin did an efficient job of removing the target and plans to meet Fett for the second time on Mandalore and the capital city, Kedalbe. Nom Anor notes that Mandalore is already on his list of a world that will be harder to subdue. Anor arrives on the planet, again under the alias of Udelen and provides Fett with the location of a rendezvous where he and a select number of Fett's troops are to meet. Anor plans to reveal his true nature to Fett as the location lies along the main invasion route the Yuuzhan Vong will take into the galaxy. As the Mandalorian fleet awaits the arrival of their client, Bevin becomes impatient and scouts around for Udelen. He soon encounters what he assumes to be an asteroid, but is actually a Yuuzhan Vong ship. Unsure of what to make of their new arrivals, the Mandalorians enter battle formation and wait. Soon though, Nom Anor makes contact with Fett and asks him to board the lead ship for a face to face meeting. Once aboard the miid ro'ik warship Fett orders Bevin to discreetly gather any samples he can, while Fett runs scans with his helmet. While touring the ship, Anor explains the Yuuzhan Vong vision for the galaxy and how the Mandalorians will play a part in shaping it and both Fett and Bevin witness first hand the plans the Vong have for the humans they capture. Anor then gives Fett the plans for the next mission he has planned for the Mandalorians, to secure a landing zone on Birgis, in exchange for their continued service the Mandalore sector will be left alone. Fett knows this is a lie and that the Vong will come for them eventually, he plans to ensure he's ready when that day comes. Fett plans to use the inside track he now has to do as much damage to the invaders as possible, while he appears to help them he will do all he can to hinder them at the same time. Nom Anor amends his report, instead believing that enslaving the Mandalorians is the best way of dealing with them. One week after the invasion of Helska 4, the Mandalorians assault the spaceport on Birgis. Fett, Bevin and Cham, another Mandalorian warrior, spearhead the assault. Fett hopes to use this moment to pass on vital intel to the New Republic. Passing the intel on to a pilot during the assault, Fett only hopes that the Republic won't blow their cover. Typically, the Yuuzhan Vong leave no survivors at the spaceport. New Holgha, however, the Vong's next target remains unevacuated, the Republic hasn't acted on the intel, obviously not trusting its source. With the planets defenses sabotaged and its troops relocated elsewhere, the world falls without a serious fight. Instead, the Republic diverted troops to Pedd 4 and now New Holgha suffers, as Fett observes a miit ro'ik digest everything around it for fuel, he is reminded of the Sarlacc. As he contemplates a better and more reliable way to pass intel to the Republic, a Vong warrior asks him to assist in killing a Jedi. While Bevin stalls the Vong, Fett and a few others subdue the Jedi, who is skeptical at first, but then believes Fett and agrees to take the information off planet. As the Jedi leaves for his hidden ship, Bevin arrives, followed by the Vong warrior. When he asks what happened to the Jedi, Fett and the others kill him, with Bevin using his crushgaunts to kill the warrior. While the others collect samples from the dead warrior, Bevin scalps him for a trophy. Briika, a Mandalorian female warrior, is fatally wounded in the encounter though and dies when she reaches Slave 1. Bevin, keeping a promise he made to her, adopts Dinua, Briika's daughter as his own. Nom Anor lays plans to accelerate the coming invasion of Mandalore, he believes that the reports of the Mandalorians savagery have been greatly exaggerated. He still plans to use them, keeping them undercover from the rest of the Vong warriors, but ultimately he plans to erase their culture from the galaxy. Fett, traveling across Mandalore space reflects that his plan is so far working fine. The Republic believe the Mandalorians are in league with the Vong, while his own engineers are working on weapons designed specifically to fight them. Then an X-Wing drops into pursuit course, but when it makes contact through one of Fett's own intel nodes he stays his trigger finger. The Jedi he saved on New Holgha, a man named Kubariet asks to meet face to face. Working with New Republic Intelligence, Kubariet confirms that Fett has a deal, the Mandalorians will continue to masquerade as Vong mercenaries while at the same time passing intel to the Republic. Before he leaves, Kubariet asks if Fett will spare a few of his best commandos to act as a kind of new Cuy'val Dar to train planetary militias to fight the Vong. Kubariet gives Fett a secure datachip, if he wants to pass on intel then he can only do it through the Jedi, in return Fett hands over 'spare parts' he's collected from the Vong. When Kubariet asks if there's anything more he can do for Fett he tells him to make sure everyone knows that a Mandalorian named Briika Jeban died saving a citizen of the New Republic. When Kubariet asks who she saved, Fett simply says: 'You, Jedi, you.'\",\n          \" Deryni Checkmate takes places in March 1121, four months after the coronation of fourteen-year old King Kelson Haldane. The novel opens with the rabidly anti-Deryni leader of the Holy Church, Archbishop Edmund Loris, signing a letter that demands that the Deryni Duke of Corwyn, Alaric Morgan, recant his magical powers and submit to a life of penance. If he fails to do so, Loris threatens to excommunicate Morgan and place his entire duchy under interdict. Additionally, Morgan's cousin, Monsignor Duncan McLain, is suspended and summoned to an ecclesiastical trial to answer for his part in the events surrounding Kelson's coronation. After being warned of the threat, Kelson sends Duncan to warn Morgan of the upcoming trouble, fearing that Duncan's hidden Deryni heritage may be revealed by a trial. Duncan travels to Morgan's capital city of Coroth, where he informs his cousin of Loris' threat. In addition to the ecclesiastical threat, Morgan's duchy is being ravaged by an anti-Deryni fanatic named Warin de Grey, and the neighboring kingdom of Torenth is preparing to launch an invasion of Gwynedd. Fearing that an internal Gwyneddan conflict will weaken the kingdom prior to fighting an external enemy, Morgan and Duncan eventually decide to travel to the city of Dhassa and personally appeal to the Curia of Bishops. However, en route to Dhassa, Morgan is drugged and captured by Warin, who intends to burn the Deryni duke as a heretic. Duncan manages to rescue his cousin, but is forced to reveal his Deryni powers to ensure their escape. When the Curia learns of the cousins' actions, the two are soon excommunicated. Morgan and Duncan realize that appealing to the Curia is no longer an option, so they set out to meet with Kelson. Loris attempts to place Corwyn under Interdict, but a group of bishops refuses to participate in an action that would punish an entire duchy for the actions of its duke. Loris rages against the rebels, but he and his supporters are thrown out of Dhassa, effectively splitting the Curia. Kelson has traveled to the city of Culdi to attend the wedding of Morgan's sister, Bronwyn, and Duncan's half-brother, Kevin. Unknown to anyone, a jealous architect named Rimmell has fallen in love with Bronwyn and seeks to win her affections through the use of a love charm he acquires from an old witch woman. However, Rimmell's plan backfires horribly, and the charm kills both Bronwyn and Kevin. By the time Morgan and Duncan arrive in Culdi, Rimmell has been executed for his crime. Though Morgan is crushed with grief over the death of his sister, Kelson reminds him that he must still see to his duties. Facing an internal ecclesiastical schism, rebel fanatics ravaging his lands, and an imminent invasion from Torenth, Kelson cannot allow Morgan to wallow in his grief. Morgan agrees, and returns to his duties in service to the throne of Gwynedd.\"\n        ],\n        \"semantic_type\": \"\",\n        \"description\": \"\"\n      }\n    }\n  ]\n}"
            }
          },
          "metadata": {},
          "execution_count": 2
        }
      ]
    },
    {
      "cell_type": "code",
      "source": [
        "books = data[['book_id','book_name','genre','summary']]\n",
        "books.head()"
      ],
      "metadata": {
        "colab": {
          "base_uri": "https://localhost:8080/",
          "height": 206
        },
        "id": "ZmgTSGc-sAcQ",
        "outputId": "6dee7911-7a0d-46d4-ce3d-786f90104101"
      },
      "execution_count": 3,
      "outputs": [
        {
          "output_type": "execute_result",
          "data": {
            "text/plain": [
              "    book_id                  book_name    genre  \\\n",
              "0   3248537          Drowned Wednesday  Fantasy   \n",
              "1  27796919              The Lost Hero  Fantasy   \n",
              "2   3910776  The Eyes of the Overworld  Fantasy   \n",
              "3   5969644            Magic's Promise  Fantasy   \n",
              "4   3173445             Taran Wanderer  Fantasy   \n",
              "\n",
              "                                             summary  \n",
              "0   Drowned Wednesday is the first Trustee among ...  \n",
              "1   As the book opens, Jason awakens on a school ...  \n",
              "2   Cugel is easily persuaded by the merchant Fia...  \n",
              "3   The book opens with Herald-Mage Vanyel return...  \n",
              "4   Taran and Gurgi have returned to Caer Dallben...  "
            ],
            "text/html": [
              "\n",
              "  <div id=\"df-8eb506ac-3d68-4506-9584-89dcec2517fd\" class=\"colab-df-container\">\n",
              "    <div>\n",
              "<style scoped>\n",
              "    .dataframe tbody tr th:only-of-type {\n",
              "        vertical-align: middle;\n",
              "    }\n",
              "\n",
              "    .dataframe tbody tr th {\n",
              "        vertical-align: top;\n",
              "    }\n",
              "\n",
              "    .dataframe thead th {\n",
              "        text-align: right;\n",
              "    }\n",
              "</style>\n",
              "<table border=\"1\" class=\"dataframe\">\n",
              "  <thead>\n",
              "    <tr style=\"text-align: right;\">\n",
              "      <th></th>\n",
              "      <th>book_id</th>\n",
              "      <th>book_name</th>\n",
              "      <th>genre</th>\n",
              "      <th>summary</th>\n",
              "    </tr>\n",
              "  </thead>\n",
              "  <tbody>\n",
              "    <tr>\n",
              "      <th>0</th>\n",
              "      <td>3248537</td>\n",
              "      <td>Drowned Wednesday</td>\n",
              "      <td>Fantasy</td>\n",
              "      <td>Drowned Wednesday is the first Trustee among ...</td>\n",
              "    </tr>\n",
              "    <tr>\n",
              "      <th>1</th>\n",
              "      <td>27796919</td>\n",
              "      <td>The Lost Hero</td>\n",
              "      <td>Fantasy</td>\n",
              "      <td>As the book opens, Jason awakens on a school ...</td>\n",
              "    </tr>\n",
              "    <tr>\n",
              "      <th>2</th>\n",
              "      <td>3910776</td>\n",
              "      <td>The Eyes of the Overworld</td>\n",
              "      <td>Fantasy</td>\n",
              "      <td>Cugel is easily persuaded by the merchant Fia...</td>\n",
              "    </tr>\n",
              "    <tr>\n",
              "      <th>3</th>\n",
              "      <td>5969644</td>\n",
              "      <td>Magic's Promise</td>\n",
              "      <td>Fantasy</td>\n",
              "      <td>The book opens with Herald-Mage Vanyel return...</td>\n",
              "    </tr>\n",
              "    <tr>\n",
              "      <th>4</th>\n",
              "      <td>3173445</td>\n",
              "      <td>Taran Wanderer</td>\n",
              "      <td>Fantasy</td>\n",
              "      <td>Taran and Gurgi have returned to Caer Dallben...</td>\n",
              "    </tr>\n",
              "  </tbody>\n",
              "</table>\n",
              "</div>\n",
              "    <div class=\"colab-df-buttons\">\n",
              "\n",
              "  <div class=\"colab-df-container\">\n",
              "    <button class=\"colab-df-convert\" onclick=\"convertToInteractive('df-8eb506ac-3d68-4506-9584-89dcec2517fd')\"\n",
              "            title=\"Convert this dataframe to an interactive table.\"\n",
              "            style=\"display:none;\">\n",
              "\n",
              "  <svg xmlns=\"http://www.w3.org/2000/svg\" height=\"24px\" viewBox=\"0 -960 960 960\">\n",
              "    <path d=\"M120-120v-720h720v720H120Zm60-500h600v-160H180v160Zm220 220h160v-160H400v160Zm0 220h160v-160H400v160ZM180-400h160v-160H180v160Zm440 0h160v-160H620v160ZM180-180h160v-160H180v160Zm440 0h160v-160H620v160Z\"/>\n",
              "  </svg>\n",
              "    </button>\n",
              "\n",
              "  <style>\n",
              "    .colab-df-container {\n",
              "      display:flex;\n",
              "      gap: 12px;\n",
              "    }\n",
              "\n",
              "    .colab-df-convert {\n",
              "      background-color: #E8F0FE;\n",
              "      border: none;\n",
              "      border-radius: 50%;\n",
              "      cursor: pointer;\n",
              "      display: none;\n",
              "      fill: #1967D2;\n",
              "      height: 32px;\n",
              "      padding: 0 0 0 0;\n",
              "      width: 32px;\n",
              "    }\n",
              "\n",
              "    .colab-df-convert:hover {\n",
              "      background-color: #E2EBFA;\n",
              "      box-shadow: 0px 1px 2px rgba(60, 64, 67, 0.3), 0px 1px 3px 1px rgba(60, 64, 67, 0.15);\n",
              "      fill: #174EA6;\n",
              "    }\n",
              "\n",
              "    .colab-df-buttons div {\n",
              "      margin-bottom: 4px;\n",
              "    }\n",
              "\n",
              "    [theme=dark] .colab-df-convert {\n",
              "      background-color: #3B4455;\n",
              "      fill: #D2E3FC;\n",
              "    }\n",
              "\n",
              "    [theme=dark] .colab-df-convert:hover {\n",
              "      background-color: #434B5C;\n",
              "      box-shadow: 0px 1px 3px 1px rgba(0, 0, 0, 0.15);\n",
              "      filter: drop-shadow(0px 1px 2px rgba(0, 0, 0, 0.3));\n",
              "      fill: #FFFFFF;\n",
              "    }\n",
              "  </style>\n",
              "\n",
              "    <script>\n",
              "      const buttonEl =\n",
              "        document.querySelector('#df-8eb506ac-3d68-4506-9584-89dcec2517fd button.colab-df-convert');\n",
              "      buttonEl.style.display =\n",
              "        google.colab.kernel.accessAllowed ? 'block' : 'none';\n",
              "\n",
              "      async function convertToInteractive(key) {\n",
              "        const element = document.querySelector('#df-8eb506ac-3d68-4506-9584-89dcec2517fd');\n",
              "        const dataTable =\n",
              "          await google.colab.kernel.invokeFunction('convertToInteractive',\n",
              "                                                    [key], {});\n",
              "        if (!dataTable) return;\n",
              "\n",
              "        const docLinkHtml = 'Like what you see? Visit the ' +\n",
              "          '<a target=\"_blank\" href=https://colab.research.google.com/notebooks/data_table.ipynb>data table notebook</a>'\n",
              "          + ' to learn more about interactive tables.';\n",
              "        element.innerHTML = '';\n",
              "        dataTable['output_type'] = 'display_data';\n",
              "        await google.colab.output.renderOutput(dataTable, element);\n",
              "        const docLink = document.createElement('div');\n",
              "        docLink.innerHTML = docLinkHtml;\n",
              "        element.appendChild(docLink);\n",
              "      }\n",
              "    </script>\n",
              "  </div>\n",
              "\n",
              "\n",
              "<div id=\"df-a867dbea-cdbc-4b16-88fd-8f84b3c09f3b\">\n",
              "  <button class=\"colab-df-quickchart\" onclick=\"quickchart('df-a867dbea-cdbc-4b16-88fd-8f84b3c09f3b')\"\n",
              "            title=\"Suggest charts\"\n",
              "            style=\"display:none;\">\n",
              "\n",
              "<svg xmlns=\"http://www.w3.org/2000/svg\" height=\"24px\"viewBox=\"0 0 24 24\"\n",
              "     width=\"24px\">\n",
              "    <g>\n",
              "        <path d=\"M19 3H5c-1.1 0-2 .9-2 2v14c0 1.1.9 2 2 2h14c1.1 0 2-.9 2-2V5c0-1.1-.9-2-2-2zM9 17H7v-7h2v7zm4 0h-2V7h2v10zm4 0h-2v-4h2v4z\"/>\n",
              "    </g>\n",
              "</svg>\n",
              "  </button>\n",
              "\n",
              "<style>\n",
              "  .colab-df-quickchart {\n",
              "      --bg-color: #E8F0FE;\n",
              "      --fill-color: #1967D2;\n",
              "      --hover-bg-color: #E2EBFA;\n",
              "      --hover-fill-color: #174EA6;\n",
              "      --disabled-fill-color: #AAA;\n",
              "      --disabled-bg-color: #DDD;\n",
              "  }\n",
              "\n",
              "  [theme=dark] .colab-df-quickchart {\n",
              "      --bg-color: #3B4455;\n",
              "      --fill-color: #D2E3FC;\n",
              "      --hover-bg-color: #434B5C;\n",
              "      --hover-fill-color: #FFFFFF;\n",
              "      --disabled-bg-color: #3B4455;\n",
              "      --disabled-fill-color: #666;\n",
              "  }\n",
              "\n",
              "  .colab-df-quickchart {\n",
              "    background-color: var(--bg-color);\n",
              "    border: none;\n",
              "    border-radius: 50%;\n",
              "    cursor: pointer;\n",
              "    display: none;\n",
              "    fill: var(--fill-color);\n",
              "    height: 32px;\n",
              "    padding: 0;\n",
              "    width: 32px;\n",
              "  }\n",
              "\n",
              "  .colab-df-quickchart:hover {\n",
              "    background-color: var(--hover-bg-color);\n",
              "    box-shadow: 0 1px 2px rgba(60, 64, 67, 0.3), 0 1px 3px 1px rgba(60, 64, 67, 0.15);\n",
              "    fill: var(--button-hover-fill-color);\n",
              "  }\n",
              "\n",
              "  .colab-df-quickchart-complete:disabled,\n",
              "  .colab-df-quickchart-complete:disabled:hover {\n",
              "    background-color: var(--disabled-bg-color);\n",
              "    fill: var(--disabled-fill-color);\n",
              "    box-shadow: none;\n",
              "  }\n",
              "\n",
              "  .colab-df-spinner {\n",
              "    border: 2px solid var(--fill-color);\n",
              "    border-color: transparent;\n",
              "    border-bottom-color: var(--fill-color);\n",
              "    animation:\n",
              "      spin 1s steps(1) infinite;\n",
              "  }\n",
              "\n",
              "  @keyframes spin {\n",
              "    0% {\n",
              "      border-color: transparent;\n",
              "      border-bottom-color: var(--fill-color);\n",
              "      border-left-color: var(--fill-color);\n",
              "    }\n",
              "    20% {\n",
              "      border-color: transparent;\n",
              "      border-left-color: var(--fill-color);\n",
              "      border-top-color: var(--fill-color);\n",
              "    }\n",
              "    30% {\n",
              "      border-color: transparent;\n",
              "      border-left-color: var(--fill-color);\n",
              "      border-top-color: var(--fill-color);\n",
              "      border-right-color: var(--fill-color);\n",
              "    }\n",
              "    40% {\n",
              "      border-color: transparent;\n",
              "      border-right-color: var(--fill-color);\n",
              "      border-top-color: var(--fill-color);\n",
              "    }\n",
              "    60% {\n",
              "      border-color: transparent;\n",
              "      border-right-color: var(--fill-color);\n",
              "    }\n",
              "    80% {\n",
              "      border-color: transparent;\n",
              "      border-right-color: var(--fill-color);\n",
              "      border-bottom-color: var(--fill-color);\n",
              "    }\n",
              "    90% {\n",
              "      border-color: transparent;\n",
              "      border-bottom-color: var(--fill-color);\n",
              "    }\n",
              "  }\n",
              "</style>\n",
              "\n",
              "  <script>\n",
              "    async function quickchart(key) {\n",
              "      const quickchartButtonEl =\n",
              "        document.querySelector('#' + key + ' button');\n",
              "      quickchartButtonEl.disabled = true;  // To prevent multiple clicks.\n",
              "      quickchartButtonEl.classList.add('colab-df-spinner');\n",
              "      try {\n",
              "        const charts = await google.colab.kernel.invokeFunction(\n",
              "            'suggestCharts', [key], {});\n",
              "      } catch (error) {\n",
              "        console.error('Error during call to suggestCharts:', error);\n",
              "      }\n",
              "      quickchartButtonEl.classList.remove('colab-df-spinner');\n",
              "      quickchartButtonEl.classList.add('colab-df-quickchart-complete');\n",
              "    }\n",
              "    (() => {\n",
              "      let quickchartButtonEl =\n",
              "        document.querySelector('#df-a867dbea-cdbc-4b16-88fd-8f84b3c09f3b button');\n",
              "      quickchartButtonEl.style.display =\n",
              "        google.colab.kernel.accessAllowed ? 'block' : 'none';\n",
              "    })();\n",
              "  </script>\n",
              "</div>\n",
              "\n",
              "    </div>\n",
              "  </div>\n"
            ],
            "application/vnd.google.colaboratory.intrinsic+json": {
              "type": "dataframe",
              "variable_name": "books",
              "summary": "{\n  \"name\": \"books\",\n  \"rows\": 3000,\n  \"fields\": [\n    {\n      \"column\": \"book_id\",\n      \"properties\": {\n        \"dtype\": \"number\",\n        \"std\": 8375374,\n        \"min\": 843,\n        \"max\": 37054020,\n        \"num_unique_values\": 3000,\n        \"samples\": [\n          2795327,\n          9350572,\n          9366759\n        ],\n        \"semantic_type\": \"\",\n        \"description\": \"\"\n      }\n    },\n    {\n      \"column\": \"book_name\",\n      \"properties\": {\n        \"dtype\": \"string\",\n        \"num_unique_values\": 2970,\n        \"samples\": [\n          \"Some of Your Blood\",\n          \"To Fear A Painted Devil\",\n          \"The Wolf's Hour\"\n        ],\n        \"semantic_type\": \"\",\n        \"description\": \"\"\n      }\n    },\n    {\n      \"column\": \"genre\",\n      \"properties\": {\n        \"dtype\": \"category\",\n        \"num_unique_values\": 6,\n        \"samples\": [\n          \"Fantasy\",\n          \"Science Fiction\",\n          \"Thriller\"\n        ],\n        \"semantic_type\": \"\",\n        \"description\": \"\"\n      }\n    },\n    {\n      \"column\": \"summary\",\n      \"properties\": {\n        \"dtype\": \"string\",\n        \"num_unique_values\": 2998,\n        \"samples\": [\n          \" It is Christmas Eve and everyone in the house hears the crashing of furniture, followed by a wailing and hideous scream. When they get to Simeon Lee's room, they find it locked and they have to break the door down. When they finally get through the door, they find heavy furniture overturned and Simeon Lee dead, his throat slit, in a great pool of blood. Superintendent Sugden notices Pilar Estravados pick up something from the floor. She tries to conceal what she picked up, but when pressed, opens her hand to show a small bit of rubber and a small object made of wood. Superintendent Sugden explains that he is in the house by prior arrangement with the victim, who confided to him the theft of a substantial quantity of uncut diamonds from his safe. When Poirot is called in to investigate, there are therefore several main problems: who killed the victim? How was the victim killed inside a locked room? Was the murder connected to the theft of the diamonds? And what is the significance of the small triangle of rubber and the peg that Sugden is able to provide when reminded by Poirot of the clue that had been picked up by Pilar? Poirot\\u2019s investigation explores the nature of the victim \\u2013 a methodical and vengeful man \\u2013 and the way that these characteristics come out in his children. He seems focused on the idea that one of the immediate family is the murderer. When the butler mentions his confusion about the identities of the house guests, Poirot realizes that the four legitimate sons may not be the only heirs of Simeon\\u2019s temperament. The final major clue is dropped by Pilar, who while playing with balloons and one bursts, lets slip that what she found on the floor must also have been a balloon. She knows more than she realizes. Poirot warns her to be careful.\",\n          \" The story opens in the lower levels of Coruscant in 24 ABY, only a few months prior to the Yuuzhan Vong Invasion. Boba Fett has just chased down another bounty, a Rodian art dealer who sold fake works to Gebbu the Hutt. Meanwhile on Nar Shaddaa, Nom Anor, posing under the alias Udelen, recruits a Mandalorian named Goran Beviin to assassinate a politician on Ter Abbes, a grim industrial planet off the Perlemian Trade Route. Bevin quickly realizes that if the man is killed it will trigger a civil war, but even after he voices his misgivings to Boba he still carries out the mission. Nom Anor notes that Bevin did an efficient job of removing the target and plans to meet Fett for the second time on Mandalore and the capital city, Kedalbe. Nom Anor notes that Mandalore is already on his list of a world that will be harder to subdue. Anor arrives on the planet, again under the alias of Udelen and provides Fett with the location of a rendezvous where he and a select number of Fett's troops are to meet. Anor plans to reveal his true nature to Fett as the location lies along the main invasion route the Yuuzhan Vong will take into the galaxy. As the Mandalorian fleet awaits the arrival of their client, Bevin becomes impatient and scouts around for Udelen. He soon encounters what he assumes to be an asteroid, but is actually a Yuuzhan Vong ship. Unsure of what to make of their new arrivals, the Mandalorians enter battle formation and wait. Soon though, Nom Anor makes contact with Fett and asks him to board the lead ship for a face to face meeting. Once aboard the miid ro'ik warship Fett orders Bevin to discreetly gather any samples he can, while Fett runs scans with his helmet. While touring the ship, Anor explains the Yuuzhan Vong vision for the galaxy and how the Mandalorians will play a part in shaping it and both Fett and Bevin witness first hand the plans the Vong have for the humans they capture. Anor then gives Fett the plans for the next mission he has planned for the Mandalorians, to secure a landing zone on Birgis, in exchange for their continued service the Mandalore sector will be left alone. Fett knows this is a lie and that the Vong will come for them eventually, he plans to ensure he's ready when that day comes. Fett plans to use the inside track he now has to do as much damage to the invaders as possible, while he appears to help them he will do all he can to hinder them at the same time. Nom Anor amends his report, instead believing that enslaving the Mandalorians is the best way of dealing with them. One week after the invasion of Helska 4, the Mandalorians assault the spaceport on Birgis. Fett, Bevin and Cham, another Mandalorian warrior, spearhead the assault. Fett hopes to use this moment to pass on vital intel to the New Republic. Passing the intel on to a pilot during the assault, Fett only hopes that the Republic won't blow their cover. Typically, the Yuuzhan Vong leave no survivors at the spaceport. New Holgha, however, the Vong's next target remains unevacuated, the Republic hasn't acted on the intel, obviously not trusting its source. With the planets defenses sabotaged and its troops relocated elsewhere, the world falls without a serious fight. Instead, the Republic diverted troops to Pedd 4 and now New Holgha suffers, as Fett observes a miit ro'ik digest everything around it for fuel, he is reminded of the Sarlacc. As he contemplates a better and more reliable way to pass intel to the Republic, a Vong warrior asks him to assist in killing a Jedi. While Bevin stalls the Vong, Fett and a few others subdue the Jedi, who is skeptical at first, but then believes Fett and agrees to take the information off planet. As the Jedi leaves for his hidden ship, Bevin arrives, followed by the Vong warrior. When he asks what happened to the Jedi, Fett and the others kill him, with Bevin using his crushgaunts to kill the warrior. While the others collect samples from the dead warrior, Bevin scalps him for a trophy. Briika, a Mandalorian female warrior, is fatally wounded in the encounter though and dies when she reaches Slave 1. Bevin, keeping a promise he made to her, adopts Dinua, Briika's daughter as his own. Nom Anor lays plans to accelerate the coming invasion of Mandalore, he believes that the reports of the Mandalorians savagery have been greatly exaggerated. He still plans to use them, keeping them undercover from the rest of the Vong warriors, but ultimately he plans to erase their culture from the galaxy. Fett, traveling across Mandalore space reflects that his plan is so far working fine. The Republic believe the Mandalorians are in league with the Vong, while his own engineers are working on weapons designed specifically to fight them. Then an X-Wing drops into pursuit course, but when it makes contact through one of Fett's own intel nodes he stays his trigger finger. The Jedi he saved on New Holgha, a man named Kubariet asks to meet face to face. Working with New Republic Intelligence, Kubariet confirms that Fett has a deal, the Mandalorians will continue to masquerade as Vong mercenaries while at the same time passing intel to the Republic. Before he leaves, Kubariet asks if Fett will spare a few of his best commandos to act as a kind of new Cuy'val Dar to train planetary militias to fight the Vong. Kubariet gives Fett a secure datachip, if he wants to pass on intel then he can only do it through the Jedi, in return Fett hands over 'spare parts' he's collected from the Vong. When Kubariet asks if there's anything more he can do for Fett he tells him to make sure everyone knows that a Mandalorian named Briika Jeban died saving a citizen of the New Republic. When Kubariet asks who she saved, Fett simply says: 'You, Jedi, you.'\",\n          \" Deryni Checkmate takes places in March 1121, four months after the coronation of fourteen-year old King Kelson Haldane. The novel opens with the rabidly anti-Deryni leader of the Holy Church, Archbishop Edmund Loris, signing a letter that demands that the Deryni Duke of Corwyn, Alaric Morgan, recant his magical powers and submit to a life of penance. If he fails to do so, Loris threatens to excommunicate Morgan and place his entire duchy under interdict. Additionally, Morgan's cousin, Monsignor Duncan McLain, is suspended and summoned to an ecclesiastical trial to answer for his part in the events surrounding Kelson's coronation. After being warned of the threat, Kelson sends Duncan to warn Morgan of the upcoming trouble, fearing that Duncan's hidden Deryni heritage may be revealed by a trial. Duncan travels to Morgan's capital city of Coroth, where he informs his cousin of Loris' threat. In addition to the ecclesiastical threat, Morgan's duchy is being ravaged by an anti-Deryni fanatic named Warin de Grey, and the neighboring kingdom of Torenth is preparing to launch an invasion of Gwynedd. Fearing that an internal Gwyneddan conflict will weaken the kingdom prior to fighting an external enemy, Morgan and Duncan eventually decide to travel to the city of Dhassa and personally appeal to the Curia of Bishops. However, en route to Dhassa, Morgan is drugged and captured by Warin, who intends to burn the Deryni duke as a heretic. Duncan manages to rescue his cousin, but is forced to reveal his Deryni powers to ensure their escape. When the Curia learns of the cousins' actions, the two are soon excommunicated. Morgan and Duncan realize that appealing to the Curia is no longer an option, so they set out to meet with Kelson. Loris attempts to place Corwyn under Interdict, but a group of bishops refuses to participate in an action that would punish an entire duchy for the actions of its duke. Loris rages against the rebels, but he and his supporters are thrown out of Dhassa, effectively splitting the Curia. Kelson has traveled to the city of Culdi to attend the wedding of Morgan's sister, Bronwyn, and Duncan's half-brother, Kevin. Unknown to anyone, a jealous architect named Rimmell has fallen in love with Bronwyn and seeks to win her affections through the use of a love charm he acquires from an old witch woman. However, Rimmell's plan backfires horribly, and the charm kills both Bronwyn and Kevin. By the time Morgan and Duncan arrive in Culdi, Rimmell has been executed for his crime. Though Morgan is crushed with grief over the death of his sister, Kelson reminds him that he must still see to his duties. Facing an internal ecclesiastical schism, rebel fanatics ravaging his lands, and an imminent invasion from Torenth, Kelson cannot allow Morgan to wallow in his grief. Morgan agrees, and returns to his duties in service to the throne of Gwynedd.\"\n        ],\n        \"semantic_type\": \"\",\n        \"description\": \"\"\n      }\n    }\n  ]\n}"
            }
          },
          "metadata": {},
          "execution_count": 3
        }
      ]
    },
    {
      "cell_type": "code",
      "source": [
        "books['summary'].iloc[1]"
      ],
      "metadata": {
        "colab": {
          "base_uri": "https://localhost:8080/",
          "height": 122
        },
        "id": "QQhV3DgNt0pT",
        "outputId": "3aaa2b06-088b-4899-9b1d-aced6677da59"
      },
      "execution_count": 4,
      "outputs": [
        {
          "output_type": "execute_result",
          "data": {
            "text/plain": [
              "' As the book opens, Jason awakens on a school bus, unable to remember who or where he is, or anything about his past. He is sitting next to Piper McLean and Leo Valdez, who call him by name and say they are his girlfriend and best friend respectively. All three are part of a class field trip to the Grand Canyon, and after they arrive, a classmate Dylan turns into a Venti (Storm Spirit) and attacks the trio and their trip leader, Coach Gleeson Hedge. In the ensuing fight, Jason surprises everyone, including himself, when one of his coins turns into a sword which he uses to battle the storm spirits. Coach Hedge, who reveals himself to be a satyr during the fight, is taken captive by a fleeing spirit. After the battle, a flying chariot arrives to rescue the trio, but one of the people in it, Annabeth, is upset when she discovers that her missing boyfriend, Percy Jackson, is not there as she expected. Annabeth, seeking Percy, was told in a vision from the goddess Hera to look there for the \"guy with one shoe\", but this turns out to be Jason, who had a shoe destroyed during the fight. Jason, Piper,and Leo are told that they are demigods and are taken back to Camp Half-Blood where they meet other greek demigod children like themselves. There, Leo is revealed as a son of Hephaestus, Piper as a daughter of Aphrodite and Jason as a son of Zeus, though Hera tells him he is her champion. Jason later discovers that he is the full brother of Zeus\\'s demigod daughter Thalia Grace, who is a Hunter of Artemis. Shortly after they arrive, the three are given a quest to rescue Hera, who has been captured, and they set off. They soon discover that their enemies are working under orders from Gaea to overthrow the gods. During their quest, they encounter Thalia and the Hunters, who have been looking for Percy. Thalia and Jason reunite for the first since Jason was captured at the age of two. On the way to Aeolus\\'s castle, Jason, Leo and Piper become separated from Thalia, who promises to meet them at the Wolf House, the last place Thalia had seen Jason before this meeting. After being nearly apprehended by Aeolus, who is under Gaea\\'s orders, the trio manage to escape thanks to Mellie, Aeolus`s former assistant, and end up in San Francisco, thanks to the result of a dream Piper had with Aphrodite. After landing in San Francisco, the trio rush to Mt.Diablo to fight the giant Enceladus, who has kidnapped Piper\\'s father. They manage to kill the giant and save Piper\\'s father, after which they rush to the Wolf House to free Hera. Although the heroes and the Hunters save Hera, the king of the giants, Porphyrion, rises fully and disappears into a hole in the Earth. Jason\\'s memory then starts returning, and he remembers that he is a hero from a Roman counterpart to Camp Half-Blood somewhere near San Francisco, and is the son of Jupiter, Zeus\\'s Roman aspect. He realizes that Hera, also known as Juno, has switched him with Percy Jackson, who will be at the Roman camp with no memory of his life, in the hopes that the two camps would ultimately work together to fight the giants and defeat the goddess Gaea.'"
            ],
            "application/vnd.google.colaboratory.intrinsic+json": {
              "type": "string"
            }
          },
          "metadata": {},
          "execution_count": 4
        }
      ]
    },
    {
      "cell_type": "code",
      "source": [
        "def cleantext(text):\n",
        "\n",
        "    # removing the \"\\\"\n",
        "\n",
        "    text = re.sub(\"'\\''\",\"\",text)\n",
        "\n",
        "    # removing special symbols\n",
        "\n",
        "    text = re.sub(\"[^a-zA-Z]\",\" \",text)\n",
        "\n",
        "    # removing the whitespaces\n",
        "\n",
        "    text = ' '.join(text.split())\n",
        "\n",
        "    # convert text to lowercase\n",
        "\n",
        "    text = text.lower()\n",
        "\n",
        "    return text\n",
        "\n",
        "\n",
        "\n",
        "books['summary'] = books['summary'].apply(lambda x:cleantext(x))\n",
        "books['summary'].iloc[1]"
      ],
      "metadata": {
        "colab": {
          "base_uri": "https://localhost:8080/",
          "height": 226
        },
        "id": "UCTKC2YFt9VW",
        "outputId": "72ab8e2b-73a9-42f0-a60e-12621b68fbdb"
      },
      "execution_count": 5,
      "outputs": [
        {
          "output_type": "stream",
          "name": "stderr",
          "text": [
            "<ipython-input-5-4d02322506a4>:23: SettingWithCopyWarning: \n",
            "A value is trying to be set on a copy of a slice from a DataFrame.\n",
            "Try using .loc[row_indexer,col_indexer] = value instead\n",
            "\n",
            "See the caveats in the documentation: https://pandas.pydata.org/pandas-docs/stable/user_guide/indexing.html#returning-a-view-versus-a-copy\n",
            "  books['summary'] = books['summary'].apply(lambda x:cleantext(x))\n"
          ]
        },
        {
          "output_type": "execute_result",
          "data": {
            "text/plain": [
              "'as the book opens jason awakens on a school bus unable to remember who or where he is or anything about his past he is sitting next to piper mclean and leo valdez who call him by name and say they are his girlfriend and best friend respectively all three are part of a class field trip to the grand canyon and after they arrive a classmate dylan turns into a venti storm spirit and attacks the trio and their trip leader coach gleeson hedge in the ensuing fight jason surprises everyone including himself when one of his coins turns into a sword which he uses to battle the storm spirits coach hedge who reveals himself to be a satyr during the fight is taken captive by a fleeing spirit after the battle a flying chariot arrives to rescue the trio but one of the people in it annabeth is upset when she discovers that her missing boyfriend percy jackson is not there as she expected annabeth seeking percy was told in a vision from the goddess hera to look there for the guy with one shoe but this turns out to be jason who had a shoe destroyed during the fight jason piper and leo are told that they are demigods and are taken back to camp half blood where they meet other greek demigod children like themselves there leo is revealed as a son of hephaestus piper as a daughter of aphrodite and jason as a son of zeus though hera tells him he is her champion jason later discovers that he is the full brother of zeus s demigod daughter thalia grace who is a hunter of artemis shortly after they arrive the three are given a quest to rescue hera who has been captured and they set off they soon discover that their enemies are working under orders from gaea to overthrow the gods during their quest they encounter thalia and the hunters who have been looking for percy thalia and jason reunite for the first since jason was captured at the age of two on the way to aeolus s castle jason leo and piper become separated from thalia who promises to meet them at the wolf house the last place thalia had seen jason before this meeting after being nearly apprehended by aeolus who is under gaea s orders the trio manage to escape thanks to mellie aeolus s former assistant and end up in san francisco thanks to the result of a dream piper had with aphrodite after landing in san francisco the trio rush to mt diablo to fight the giant enceladus who has kidnapped piper s father they manage to kill the giant and save piper s father after which they rush to the wolf house to free hera although the heroes and the hunters save hera the king of the giants porphyrion rises fully and disappears into a hole in the earth jason s memory then starts returning and he remembers that he is a hero from a roman counterpart to camp half blood somewhere near san francisco and is the son of jupiter zeus s roman aspect he realizes that hera also known as juno has switched him with percy jackson who will be at the roman camp with no memory of his life in the hopes that the two camps would ultimately work together to fight the giants and defeat the goddess gaea'"
            ],
            "application/vnd.google.colaboratory.intrinsic+json": {
              "type": "string"
            }
          },
          "metadata": {},
          "execution_count": 5
        }
      ]
    },
    {
      "cell_type": "code",
      "source": [
        "nl.download('stopwords')"
      ],
      "metadata": {
        "colab": {
          "base_uri": "https://localhost:8080/"
        },
        "id": "cnwPGlBVune3",
        "outputId": "8aff79e9-df46-44a7-ee9d-4a8804bc4732"
      },
      "execution_count": 7,
      "outputs": [
        {
          "output_type": "stream",
          "name": "stderr",
          "text": [
            "[nltk_data] Downloading package stopwords to /root/nltk_data...\n",
            "[nltk_data]   Unzipping corpora/stopwords.zip.\n"
          ]
        },
        {
          "output_type": "execute_result",
          "data": {
            "text/plain": [
              "True"
            ]
          },
          "metadata": {},
          "execution_count": 7
        }
      ]
    },
    {
      "cell_type": "code",
      "source": [
        "from nltk.corpus import stopwords\n",
        "stop_words = set(stopwords.words('english'))\n",
        "def remove_stop_words(text):\n",
        "  removed_stop_words = [word for word in text.split() if word not in stop_words]\n",
        "  return ' '.join(removed_stop_words)\n",
        "books['summary'] = books['summary'].apply(lambda x:remove_stop_words(x))\n",
        "books['summary'].iloc[1]"
      ],
      "metadata": {
        "colab": {
          "base_uri": "https://localhost:8080/",
          "height": 226
        },
        "id": "8HvFM_cIzK91",
        "outputId": "4116696d-0831-45b0-fb13-a5a64e3b2a45"
      },
      "execution_count": 8,
      "outputs": [
        {
          "output_type": "stream",
          "name": "stderr",
          "text": [
            "<ipython-input-8-7fc7285eec35>:6: SettingWithCopyWarning: \n",
            "A value is trying to be set on a copy of a slice from a DataFrame.\n",
            "Try using .loc[row_indexer,col_indexer] = value instead\n",
            "\n",
            "See the caveats in the documentation: https://pandas.pydata.org/pandas-docs/stable/user_guide/indexing.html#returning-a-view-versus-a-copy\n",
            "  books['summary'] = books['summary'].apply(lambda x:remove_stop_words(x))\n"
          ]
        },
        {
          "output_type": "execute_result",
          "data": {
            "text/plain": [
              "'book opens jason awakens school bus unable remember anything past sitting next piper mclean leo valdez call name say girlfriend best friend respectively three part class field trip grand canyon arrive classmate dylan turns venti storm spirit attacks trio trip leader coach gleeson hedge ensuing fight jason surprises everyone including one coins turns sword uses battle storm spirits coach hedge reveals satyr fight taken captive fleeing spirit battle flying chariot arrives rescue trio one people annabeth upset discovers missing boyfriend percy jackson expected annabeth seeking percy told vision goddess hera look guy one shoe turns jason shoe destroyed fight jason piper leo told demigods taken back camp half blood meet greek demigod children like leo revealed son hephaestus piper daughter aphrodite jason son zeus though hera tells champion jason later discovers full brother zeus demigod daughter thalia grace hunter artemis shortly arrive three given quest rescue hera captured set soon discover enemies working orders gaea overthrow gods quest encounter thalia hunters looking percy thalia jason reunite first since jason captured age two way aeolus castle jason leo piper become separated thalia promises meet wolf house last place thalia seen jason meeting nearly apprehended aeolus gaea orders trio manage escape thanks mellie aeolus former assistant end san francisco thanks result dream piper aphrodite landing san francisco trio rush mt diablo fight giant enceladus kidnapped piper father manage kill giant save piper father rush wolf house free hera although heroes hunters save hera king giants porphyrion rises fully disappears hole earth jason memory starts returning remembers hero roman counterpart camp half blood somewhere near san francisco son jupiter zeus roman aspect realizes hera also known juno switched percy jackson roman camp memory life hopes two camps would ultimately work together fight giants defeat goddess gaea'"
            ],
            "application/vnd.google.colaboratory.intrinsic+json": {
              "type": "string"
            }
          },
          "metadata": {},
          "execution_count": 8
        }
      ]
    },
    {
      "cell_type": "markdown",
      "source": [
        "Lemmatisation"
      ],
      "metadata": {
        "id": "2D-rjuaA0DPk"
      }
    },
    {
      "cell_type": "code",
      "source": [
        "nl.download('wordnet')\n",
        "from nltk.stem import WordNetLemmatizer\n",
        "lemma = WordNetLemmatizer()\n",
        "def lemmatizing(sentence):\n",
        "  stemSentence = \"\"\n",
        "  for word in sentence.split():\n",
        "    stem = lemma.lemmatize(word)\n",
        "    stemSentence += stem\n",
        "    stemSentence += \" \"\n",
        "  stemSentence = stemSentence.strip()\n",
        "  return stemSentence\n",
        "books['summary'] = books['summary'].apply(lambda x: lemmatizing(x))"
      ],
      "metadata": {
        "colab": {
          "base_uri": "https://localhost:8080/"
        },
        "id": "MrdxVaGy0Ct0",
        "outputId": "afd2966a-e948-4312-e765-2489f6267fe8"
      },
      "execution_count": 9,
      "outputs": [
        {
          "output_type": "stream",
          "name": "stderr",
          "text": [
            "[nltk_data] Downloading package wordnet to /root/nltk_data...\n",
            "<ipython-input-9-70f0d1625828>:12: SettingWithCopyWarning: \n",
            "A value is trying to be set on a copy of a slice from a DataFrame.\n",
            "Try using .loc[row_indexer,col_indexer] = value instead\n",
            "\n",
            "See the caveats in the documentation: https://pandas.pydata.org/pandas-docs/stable/user_guide/indexing.html#returning-a-view-versus-a-copy\n",
            "  books['summary'] = books['summary'].apply(lambda x: lemmatizing(x))\n"
          ]
        }
      ]
    },
    {
      "cell_type": "code",
      "source": [
        "from nltk.stem import PorterStemmer\n",
        "stemmer = PorterStemmer()\n",
        "def stemming(sentence):\n",
        "    stemmed_sentence = \"\"\n",
        "    for word in sentence.split():\n",
        "        stem = stemmer.stem(word)\n",
        "        stemmed_sentence+=stem\n",
        "        stemmed_sentence+=\" \"\n",
        "    stemmed_sentence = stemmed_sentence.strip()\n",
        "    return stemmed_sentence\n",
        "\n",
        "books['summary'] = books['summary'].apply(lambda text:stemming(text))\n",
        "books['summary'].iloc[1]"
      ],
      "metadata": {
        "colab": {
          "base_uri": "https://localhost:8080/",
          "height": 226
        },
        "id": "z0sKkgZI33Ev",
        "outputId": "29670605-3efe-4822-cdb1-86d62abc4db7"
      },
      "execution_count": 10,
      "outputs": [
        {
          "output_type": "stream",
          "name": "stderr",
          "text": [
            "<ipython-input-10-4639cfca99fa>:12: SettingWithCopyWarning: \n",
            "A value is trying to be set on a copy of a slice from a DataFrame.\n",
            "Try using .loc[row_indexer,col_indexer] = value instead\n",
            "\n",
            "See the caveats in the documentation: https://pandas.pydata.org/pandas-docs/stable/user_guide/indexing.html#returning-a-view-versus-a-copy\n",
            "  books['summary'] = books['summary'].apply(lambda text:stemming(text))\n"
          ]
        },
        {
          "output_type": "execute_result",
          "data": {
            "text/plain": [
              "'book open jason awaken school bu unabl rememb anyth past sit next piper mclean leo valdez call name say girlfriend best friend respect three part class field trip grand canyon arriv classmat dylan turn venti storm spirit attack trio trip leader coach gleeson hedg ensu fight jason surpris everyon includ one coin turn sword us battl storm spirit coach hedg reveal satyr fight taken captiv flee spirit battl fli chariot arriv rescu trio one peopl annabeth upset discov miss boyfriend perci jackson expect annabeth seek perci told vision goddess hera look guy one shoe turn jason shoe destroy fight jason piper leo told demigod taken back camp half blood meet greek demigod child like leo reveal son hephaestu piper daughter aphrodit jason son zeu though hera tell champion jason later discov full brother zeu demigod daughter thalia grace hunter artemi shortli arriv three given quest rescu hera captur set soon discov enemi work order gaea overthrow god quest encount thalia hunter look perci thalia jason reunit first sinc jason captur age two way aeolu castl jason leo piper becom separ thalia promis meet wolf hous last place thalia seen jason meet nearli apprehend aeolu gaea order trio manag escap thank melli aeolu former assist end san francisco thank result dream piper aphrodit land san francisco trio rush mt diablo fight giant enceladu kidnap piper father manag kill giant save piper father rush wolf hous free hera although hero hunter save hera king giant porphyrion rise fulli disappear hole earth jason memori start return rememb hero roman counterpart camp half blood somewher near san francisco son jupit zeu roman aspect realiz hera also known juno switch perci jackson roman camp memori life hope two camp would ultim work togeth fight giant defeat goddess gaea'"
            ],
            "application/vnd.google.colaboratory.intrinsic+json": {
              "type": "string"
            }
          },
          "metadata": {},
          "execution_count": 10
        }
      ]
    },
    {
      "cell_type": "code",
      "source": [
        "books_list = list(books['genre'].unique())\n",
        "encode = [i for i in range(len(books_list))]\n",
        "mapper = dict(zip(books_list,encode))\n",
        "print(mapper)"
      ],
      "metadata": {
        "colab": {
          "base_uri": "https://localhost:8080/"
        },
        "id": "PxfhxkOG4HaX",
        "outputId": "1c50cd73-034d-41c9-8286-3f550e1a56db"
      },
      "execution_count": 11,
      "outputs": [
        {
          "output_type": "stream",
          "name": "stdout",
          "text": [
            "{'Fantasy': 0, 'Science Fiction': 1, 'Crime Fiction': 2, 'Historical novel': 3, 'Horror': 4, 'Thriller': 5}\n"
          ]
        }
      ]
    },
    {
      "cell_type": "code",
      "source": [
        "books['genre'] = books['genre'].map(mapper)\n",
        "books['genre'].unique()"
      ],
      "metadata": {
        "colab": {
          "base_uri": "https://localhost:8080/"
        },
        "id": "CCET-eSK4NjV",
        "outputId": "fa6354e9-98bb-4952-b7b3-299320771c8f"
      },
      "execution_count": 12,
      "outputs": [
        {
          "output_type": "stream",
          "name": "stderr",
          "text": [
            "<ipython-input-12-05b501288c16>:1: SettingWithCopyWarning: \n",
            "A value is trying to be set on a copy of a slice from a DataFrame.\n",
            "Try using .loc[row_indexer,col_indexer] = value instead\n",
            "\n",
            "See the caveats in the documentation: https://pandas.pydata.org/pandas-docs/stable/user_guide/indexing.html#returning-a-view-versus-a-copy\n",
            "  books['genre'] = books['genre'].map(mapper)\n"
          ]
        },
        {
          "output_type": "execute_result",
          "data": {
            "text/plain": [
              "array([0, 1, 2, 3, 4, 5])"
            ]
          },
          "metadata": {},
          "execution_count": 12
        }
      ]
    },
    {
      "cell_type": "code",
      "source": [
        "from sklearn.feature_extraction.text import TfidfVectorizer,CountVectorizer\n",
        "count_vec = CountVectorizer(max_df=0.90,min_df=2,\n",
        "                           max_features=1000,stop_words='english')\n",
        "\n",
        "bagofword_vec = count_vec.fit_transform(books['summary'])\n",
        "bagofword_vec"
      ],
      "metadata": {
        "colab": {
          "base_uri": "https://localhost:8080/"
        },
        "id": "5OD0I07V4TyD",
        "outputId": "786b9cf9-c9ff-422c-d25a-5d930c5f2495"
      },
      "execution_count": 13,
      "outputs": [
        {
          "output_type": "execute_result",
          "data": {
            "text/plain": [
              "<3000x1000 sparse matrix of type '<class 'numpy.int64'>'\n",
              "\twith 245387 stored elements in Compressed Sparse Row format>"
            ]
          },
          "metadata": {},
          "execution_count": 13
        }
      ]
    },
    {
      "cell_type": "code",
      "source": [
        "from sklearn.model_selection import train_test_split\n",
        "test = books['genre']\n",
        "X_train, X_test, y_train, y_test = train_test_split(bagofword_vec,test,\n",
        "                                                    test_size=0.2)\n",
        "X_train.shape,X_test.shape"
      ],
      "metadata": {
        "colab": {
          "base_uri": "https://localhost:8080/"
        },
        "id": "bgqqe-sf5lrr",
        "outputId": "b1c02448-4908-4ab4-89fe-b53658cd0f60"
      },
      "execution_count": 15,
      "outputs": [
        {
          "output_type": "execute_result",
          "data": {
            "text/plain": [
              "((2400, 1000), (600, 1000))"
            ]
          },
          "metadata": {},
          "execution_count": 15
        }
      ]
    },
    {
      "cell_type": "code",
      "source": [
        "from sklearn.svm import SVC\n",
        "from sklearn import metrics\n",
        "svc = SVC()\n",
        "svc.fit(X_train,y_train)\n",
        "svccpred = svc.predict(X_test)\n",
        "print(metrics.accuracy_score(y_test,svccpred))"
      ],
      "metadata": {
        "colab": {
          "base_uri": "https://localhost:8080/"
        },
        "id": "osOzMxT_5t1d",
        "outputId": "b8a6a946-f1c0-4c64-8e2b-17d014b9e947"
      },
      "execution_count": 17,
      "outputs": [
        {
          "output_type": "stream",
          "name": "stdout",
          "text": [
            "0.5833333333333334\n"
          ]
        }
      ]
    },
    {
      "cell_type": "code",
      "source": [
        "from sklearn.ensemble import RandomForestClassifier\n",
        "from sklearn.naive_bayes import GaussianNB,MultinomialNB\n",
        "mb = MultinomialNB()\n",
        "mb.fit(X_train,y_train)\n",
        "mbpred = mb.predict(X_test)\n",
        "print(metrics.accuracy_score(y_test,mbpred))"
      ],
      "metadata": {
        "colab": {
          "base_uri": "https://localhost:8080/"
        },
        "id": "E5zJjPIn58tH",
        "outputId": "4648c49a-ef4f-4ca6-ab56-a286863ca162"
      },
      "execution_count": 19,
      "outputs": [
        {
          "output_type": "stream",
          "name": "stdout",
          "text": [
            "0.6733333333333333\n"
          ]
        }
      ]
    },
    {
      "cell_type": "code",
      "source": [
        "rf = RandomForestClassifier()\n",
        "rf.fit(X_train,y_train)\n",
        "print(metrics.accuracy_score(y_test,rf.predict(X_test)))"
      ],
      "metadata": {
        "colab": {
          "base_uri": "https://localhost:8080/"
        },
        "id": "1RgApsEJ6E0F",
        "outputId": "2165fe87-596d-4bd3-cfcf-67f9b7ecd68e"
      },
      "execution_count": 20,
      "outputs": [
        {
          "output_type": "stream",
          "name": "stdout",
          "text": [
            "0.6366666666666667\n"
          ]
        }
      ]
    },
    {
      "cell_type": "code",
      "source": [
        "from sklearn.preprocessing import LabelEncoder\n",
        "le = LabelEncoder()\n",
        "y=le.fit_transform(books['genre'])\n",
        "\n",
        "X_train,X_test,y_train,y_test = train_test_split(books['summary']\n",
        "                                                ,y,test_size=0.2,\n",
        "                                                random_state=557)\n",
        "\n",
        "X_train.shape,X_test.shape"
      ],
      "metadata": {
        "colab": {
          "base_uri": "https://localhost:8080/"
        },
        "id": "pB9NVwCM6Ozn",
        "outputId": "f0cb1dcb-069c-4059-92dc-f1ce48d76836"
      },
      "execution_count": 21,
      "outputs": [
        {
          "output_type": "execute_result",
          "data": {
            "text/plain": [
              "((2400,), (600,))"
            ]
          },
          "metadata": {},
          "execution_count": 21
        }
      ]
    },
    {
      "cell_type": "code",
      "source": [
        "tfidf_vectorizer = TfidfVectorizer(max_df=0.8, max_features=10000)\n",
        "xtrain_tfidf = tfidf_vectorizer.fit_transform(X_train.values.astype('U'))\n",
        "xtest_tfidf = tfidf_vectorizer.transform(X_test.values.astype('U'))"
      ],
      "metadata": {
        "id": "6eEVzTWn6J2p"
      },
      "execution_count": 22,
      "outputs": []
    },
    {
      "cell_type": "code",
      "source": [
        "svc = SVC()\n",
        "svc.fit(xtrain_tfidf,y_train)\n",
        "svccpred = svc.predict(xtest_tfidf)\n",
        "print(metrics.accuracy_score(y_test,svccpred))"
      ],
      "metadata": {
        "colab": {
          "base_uri": "https://localhost:8080/"
        },
        "id": "oRTVQHDf6TA7",
        "outputId": "641b6bc2-721f-4af1-93b7-0252b46eb029"
      },
      "execution_count": 23,
      "outputs": [
        {
          "output_type": "stream",
          "name": "stdout",
          "text": [
            "0.775\n"
          ]
        }
      ]
    },
    {
      "cell_type": "code",
      "source": [
        "mb = MultinomialNB()\n",
        "mb.fit(xtrain_tfidf,y_train)\n",
        "mbpred = mb.predict(xtest_tfidf)\n",
        "print(metrics.accuracy_score(y_test,mbpred))"
      ],
      "metadata": {
        "colab": {
          "base_uri": "https://localhost:8080/"
        },
        "id": "Hf8NeQHX6afO",
        "outputId": "a14faed8-8d26-4137-f139-bde789ac223f"
      },
      "execution_count": 24,
      "outputs": [
        {
          "output_type": "stream",
          "name": "stdout",
          "text": [
            "0.78\n"
          ]
        }
      ]
    },
    {
      "cell_type": "code",
      "source": [
        "def test(text,model):\n",
        "\n",
        "    text = cleantext(text)\n",
        "    text = remove_stop_word(text)\n",
        "    text = lemmatizing(text)\n",
        "    text = stemming(text)\n",
        "\n",
        "    text_vector = tfidf_vectorizer.transform([text])\n",
        "    predicted = model.predict(text_vector)\n",
        "    return predicted\n",
        "\n",
        "\n",
        "\n",
        "ans = books['summary'].apply(lambda text:test(text,mb))\n",
        "\n",
        "# printing the\n",
        "# print(list(mapper.keys())[list(mapper.values()).index(ans)])\n",
        "\n",
        "ans"
      ],
      "metadata": {
        "colab": {
          "base_uri": "https://localhost:8080/",
          "height": 356
        },
        "id": "jE0HXd5O6dPb",
        "outputId": "0143a80c-2fd5-4126-e222-1b1f92cc93e6"
      },
      "execution_count": 25,
      "outputs": [
        {
          "output_type": "error",
          "ename": "NameError",
          "evalue": "name 'removestopwords' is not defined",
          "traceback": [
            "\u001b[0;31m---------------------------------------------------------------------------\u001b[0m",
            "\u001b[0;31mNameError\u001b[0m                                 Traceback (most recent call last)",
            "\u001b[0;32m<ipython-input-25-2b2c2d038e4a>\u001b[0m in \u001b[0;36m<cell line: 14>\u001b[0;34m()\u001b[0m\n\u001b[1;32m     12\u001b[0m \u001b[0;34m\u001b[0m\u001b[0m\n\u001b[1;32m     13\u001b[0m \u001b[0;34m\u001b[0m\u001b[0m\n\u001b[0;32m---> 14\u001b[0;31m \u001b[0mans\u001b[0m \u001b[0;34m=\u001b[0m \u001b[0mbooks\u001b[0m\u001b[0;34m[\u001b[0m\u001b[0;34m'summary'\u001b[0m\u001b[0;34m]\u001b[0m\u001b[0;34m.\u001b[0m\u001b[0mapply\u001b[0m\u001b[0;34m(\u001b[0m\u001b[0;32mlambda\u001b[0m \u001b[0mtext\u001b[0m\u001b[0;34m:\u001b[0m\u001b[0mtest\u001b[0m\u001b[0;34m(\u001b[0m\u001b[0mtext\u001b[0m\u001b[0;34m,\u001b[0m\u001b[0mmb\u001b[0m\u001b[0;34m)\u001b[0m\u001b[0;34m)\u001b[0m\u001b[0;34m\u001b[0m\u001b[0;34m\u001b[0m\u001b[0m\n\u001b[0m\u001b[1;32m     15\u001b[0m \u001b[0;34m\u001b[0m\u001b[0m\n\u001b[1;32m     16\u001b[0m \u001b[0;31m# printing the\u001b[0m\u001b[0;34m\u001b[0m\u001b[0;34m\u001b[0m\u001b[0m\n",
            "\u001b[0;32m/usr/local/lib/python3.10/dist-packages/pandas/core/series.py\u001b[0m in \u001b[0;36mapply\u001b[0;34m(self, func, convert_dtype, args, **kwargs)\u001b[0m\n\u001b[1;32m   4628\u001b[0m         \u001b[0mdtype\u001b[0m\u001b[0;34m:\u001b[0m \u001b[0mfloat64\u001b[0m\u001b[0;34m\u001b[0m\u001b[0;34m\u001b[0m\u001b[0m\n\u001b[1;32m   4629\u001b[0m         \"\"\"\n\u001b[0;32m-> 4630\u001b[0;31m         \u001b[0;32mreturn\u001b[0m \u001b[0mSeriesApply\u001b[0m\u001b[0;34m(\u001b[0m\u001b[0mself\u001b[0m\u001b[0;34m,\u001b[0m \u001b[0mfunc\u001b[0m\u001b[0;34m,\u001b[0m \u001b[0mconvert_dtype\u001b[0m\u001b[0;34m,\u001b[0m \u001b[0margs\u001b[0m\u001b[0;34m,\u001b[0m \u001b[0mkwargs\u001b[0m\u001b[0;34m)\u001b[0m\u001b[0;34m.\u001b[0m\u001b[0mapply\u001b[0m\u001b[0;34m(\u001b[0m\u001b[0;34m)\u001b[0m\u001b[0;34m\u001b[0m\u001b[0;34m\u001b[0m\u001b[0m\n\u001b[0m\u001b[1;32m   4631\u001b[0m \u001b[0;34m\u001b[0m\u001b[0m\n\u001b[1;32m   4632\u001b[0m     def _reduce(\n",
            "\u001b[0;32m/usr/local/lib/python3.10/dist-packages/pandas/core/apply.py\u001b[0m in \u001b[0;36mapply\u001b[0;34m(self)\u001b[0m\n\u001b[1;32m   1023\u001b[0m \u001b[0;34m\u001b[0m\u001b[0m\n\u001b[1;32m   1024\u001b[0m         \u001b[0;31m# self.f is Callable\u001b[0m\u001b[0;34m\u001b[0m\u001b[0;34m\u001b[0m\u001b[0m\n\u001b[0;32m-> 1025\u001b[0;31m         \u001b[0;32mreturn\u001b[0m \u001b[0mself\u001b[0m\u001b[0;34m.\u001b[0m\u001b[0mapply_standard\u001b[0m\u001b[0;34m(\u001b[0m\u001b[0;34m)\u001b[0m\u001b[0;34m\u001b[0m\u001b[0;34m\u001b[0m\u001b[0m\n\u001b[0m\u001b[1;32m   1026\u001b[0m \u001b[0;34m\u001b[0m\u001b[0m\n\u001b[1;32m   1027\u001b[0m     \u001b[0;32mdef\u001b[0m \u001b[0magg\u001b[0m\u001b[0;34m(\u001b[0m\u001b[0mself\u001b[0m\u001b[0;34m)\u001b[0m\u001b[0;34m:\u001b[0m\u001b[0;34m\u001b[0m\u001b[0;34m\u001b[0m\u001b[0m\n",
            "\u001b[0;32m/usr/local/lib/python3.10/dist-packages/pandas/core/apply.py\u001b[0m in \u001b[0;36mapply_standard\u001b[0;34m(self)\u001b[0m\n\u001b[1;32m   1074\u001b[0m             \u001b[0;32melse\u001b[0m\u001b[0;34m:\u001b[0m\u001b[0;34m\u001b[0m\u001b[0;34m\u001b[0m\u001b[0m\n\u001b[1;32m   1075\u001b[0m                 \u001b[0mvalues\u001b[0m \u001b[0;34m=\u001b[0m \u001b[0mobj\u001b[0m\u001b[0;34m.\u001b[0m\u001b[0mastype\u001b[0m\u001b[0;34m(\u001b[0m\u001b[0mobject\u001b[0m\u001b[0;34m)\u001b[0m\u001b[0;34m.\u001b[0m\u001b[0m_values\u001b[0m\u001b[0;34m\u001b[0m\u001b[0;34m\u001b[0m\u001b[0m\n\u001b[0;32m-> 1076\u001b[0;31m                 mapped = lib.map_infer(\n\u001b[0m\u001b[1;32m   1077\u001b[0m                     \u001b[0mvalues\u001b[0m\u001b[0;34m,\u001b[0m\u001b[0;34m\u001b[0m\u001b[0;34m\u001b[0m\u001b[0m\n\u001b[1;32m   1078\u001b[0m                     \u001b[0mf\u001b[0m\u001b[0;34m,\u001b[0m\u001b[0;34m\u001b[0m\u001b[0;34m\u001b[0m\u001b[0m\n",
            "\u001b[0;32m/usr/local/lib/python3.10/dist-packages/pandas/_libs/lib.pyx\u001b[0m in \u001b[0;36mpandas._libs.lib.map_infer\u001b[0;34m()\u001b[0m\n",
            "\u001b[0;32m<ipython-input-25-2b2c2d038e4a>\u001b[0m in \u001b[0;36m<lambda>\u001b[0;34m(text)\u001b[0m\n\u001b[1;32m     12\u001b[0m \u001b[0;34m\u001b[0m\u001b[0m\n\u001b[1;32m     13\u001b[0m \u001b[0;34m\u001b[0m\u001b[0m\n\u001b[0;32m---> 14\u001b[0;31m \u001b[0mans\u001b[0m \u001b[0;34m=\u001b[0m \u001b[0mbooks\u001b[0m\u001b[0;34m[\u001b[0m\u001b[0;34m'summary'\u001b[0m\u001b[0;34m]\u001b[0m\u001b[0;34m.\u001b[0m\u001b[0mapply\u001b[0m\u001b[0;34m(\u001b[0m\u001b[0;32mlambda\u001b[0m \u001b[0mtext\u001b[0m\u001b[0;34m:\u001b[0m\u001b[0mtest\u001b[0m\u001b[0;34m(\u001b[0m\u001b[0mtext\u001b[0m\u001b[0;34m,\u001b[0m\u001b[0mmb\u001b[0m\u001b[0;34m)\u001b[0m\u001b[0;34m)\u001b[0m\u001b[0;34m\u001b[0m\u001b[0;34m\u001b[0m\u001b[0m\n\u001b[0m\u001b[1;32m     15\u001b[0m \u001b[0;34m\u001b[0m\u001b[0m\n\u001b[1;32m     16\u001b[0m \u001b[0;31m# printing the\u001b[0m\u001b[0;34m\u001b[0m\u001b[0;34m\u001b[0m\u001b[0m\n",
            "\u001b[0;32m<ipython-input-25-2b2c2d038e4a>\u001b[0m in \u001b[0;36mtest\u001b[0;34m(text, model)\u001b[0m\n\u001b[1;32m      2\u001b[0m \u001b[0;34m\u001b[0m\u001b[0m\n\u001b[1;32m      3\u001b[0m     \u001b[0mtext\u001b[0m \u001b[0;34m=\u001b[0m \u001b[0mcleantext\u001b[0m\u001b[0;34m(\u001b[0m\u001b[0mtext\u001b[0m\u001b[0;34m)\u001b[0m\u001b[0;34m\u001b[0m\u001b[0;34m\u001b[0m\u001b[0m\n\u001b[0;32m----> 4\u001b[0;31m     \u001b[0mtext\u001b[0m \u001b[0;34m=\u001b[0m \u001b[0mremovestopwords\u001b[0m\u001b[0;34m(\u001b[0m\u001b[0mtext\u001b[0m\u001b[0;34m)\u001b[0m\u001b[0;34m\u001b[0m\u001b[0;34m\u001b[0m\u001b[0m\n\u001b[0m\u001b[1;32m      5\u001b[0m     \u001b[0mtext\u001b[0m \u001b[0;34m=\u001b[0m \u001b[0mlematizing\u001b[0m\u001b[0;34m(\u001b[0m\u001b[0mtext\u001b[0m\u001b[0;34m)\u001b[0m\u001b[0;34m\u001b[0m\u001b[0;34m\u001b[0m\u001b[0m\n\u001b[1;32m      6\u001b[0m     \u001b[0mtext\u001b[0m \u001b[0;34m=\u001b[0m \u001b[0mstemming\u001b[0m\u001b[0;34m(\u001b[0m\u001b[0mtext\u001b[0m\u001b[0;34m)\u001b[0m\u001b[0;34m\u001b[0m\u001b[0;34m\u001b[0m\u001b[0m\n",
            "\u001b[0;31mNameError\u001b[0m: name 'removestopwords' is not defined"
          ]
        }
      ]
    }
  ]
}