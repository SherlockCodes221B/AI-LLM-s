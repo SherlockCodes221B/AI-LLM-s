{
  "nbformat": 4,
  "nbformat_minor": 0,
  "metadata": {
    "colab": {
      "provenance": []
    },
    "kernelspec": {
      "name": "python3",
      "display_name": "Python 3"
    },
    "language_info": {
      "name": "python"
    }
  },
  "cells": [
    {
      "cell_type": "code",
      "execution_count": 2,
      "metadata": {
        "id": "bKY6Kw9HzH9h"
      },
      "outputs": [],
      "source": [
        "import numpy as np\n",
        "import matplotlib.pyplot as plt\n",
        "from tensorflow import keras\n",
        "import tensorflow as tf\n",
        "from tensorflow.keras import layers"
      ]
    },
    {
      "cell_type": "code",
      "source": [
        "data = [10, 20, 30, 40, 50, 60, 70, 80, 90, 100, 110, 120, 130, 140, 150, 160, 170, 180, 190, 200]\n",
        "print(data)"
      ],
      "metadata": {
        "colab": {
          "base_uri": "https://localhost:8080/"
        },
        "id": "balrgR-9CoRL",
        "outputId": "c56b5f33-a87d-4662-8f40-dea9db93398b"
      },
      "execution_count": 3,
      "outputs": [
        {
          "output_type": "stream",
          "name": "stdout",
          "text": [
            "[10, 20, 30, 40, 50, 60, 70, 80, 90, 100, 110, 120, 130, 140, 150, 160, 170, 180, 190, 200]\n"
          ]
        }
      ]
    },
    {
      "cell_type": "code",
      "source": [
        "def split(seq,n_steps):\n",
        "  X = []\n",
        "  y =[]\n",
        "  for i in range(len(seq)):\n",
        "    lastindex = i + n_steps\n",
        "    if lastindex > len(seq)-1:\n",
        "      break\n",
        "    seq_X = seq[i:lastindex]\n",
        "    seq_y = seq[lastindex]\n",
        "    X.append(seq_X)\n",
        "    y.append(seq_y)\n",
        "    pass\n",
        "  X = np.array(X)\n",
        "  y = np.array(y)\n",
        "  return np.array(X),np.array(y)"
      ],
      "metadata": {
        "id": "SgMkClSxCxpi"
      },
      "execution_count": 4,
      "outputs": []
    },
    {
      "cell_type": "code",
      "source": [
        "n_steps = 7\n",
        "X,y = split(data,n_steps)"
      ],
      "metadata": {
        "id": "HI_2-2vdDLN4"
      },
      "execution_count": 5,
      "outputs": []
    },
    {
      "cell_type": "code",
      "source": [
        "X"
      ],
      "metadata": {
        "colab": {
          "base_uri": "https://localhost:8080/"
        },
        "id": "lHKPEPdFDSui",
        "outputId": "98f431bb-e208-4545-e2b9-9f4b9a7cc34e"
      },
      "execution_count": 6,
      "outputs": [
        {
          "output_type": "execute_result",
          "data": {
            "text/plain": [
              "array([[ 10,  20,  30,  40,  50,  60,  70],\n",
              "       [ 20,  30,  40,  50,  60,  70,  80],\n",
              "       [ 30,  40,  50,  60,  70,  80,  90],\n",
              "       [ 40,  50,  60,  70,  80,  90, 100],\n",
              "       [ 50,  60,  70,  80,  90, 100, 110],\n",
              "       [ 60,  70,  80,  90, 100, 110, 120],\n",
              "       [ 70,  80,  90, 100, 110, 120, 130],\n",
              "       [ 80,  90, 100, 110, 120, 130, 140],\n",
              "       [ 90, 100, 110, 120, 130, 140, 150],\n",
              "       [100, 110, 120, 130, 140, 150, 160],\n",
              "       [110, 120, 130, 140, 150, 160, 170],\n",
              "       [120, 130, 140, 150, 160, 170, 180],\n",
              "       [130, 140, 150, 160, 170, 180, 190]])"
            ]
          },
          "metadata": {},
          "execution_count": 6
        }
      ]
    },
    {
      "cell_type": "code",
      "source": [
        "y"
      ],
      "metadata": {
        "colab": {
          "base_uri": "https://localhost:8080/"
        },
        "id": "grq0JKXnDUjn",
        "outputId": "0f3a4217-f55a-447b-85b9-1d96c6186e00"
      },
      "execution_count": 7,
      "outputs": [
        {
          "output_type": "execute_result",
          "data": {
            "text/plain": [
              "array([ 80,  90, 100, 110, 120, 130, 140, 150, 160, 170, 180, 190, 200])"
            ]
          },
          "metadata": {},
          "execution_count": 7
        }
      ]
    },
    {
      "cell_type": "code",
      "source": [
        "n_features = 1\n",
        "X = X.reshape((X.shape[0], X.shape[1], n_features))\n",
        "print(X[:2])"
      ],
      "metadata": {
        "colab": {
          "base_uri": "https://localhost:8080/"
        },
        "id": "3NSVqRRsDXxw",
        "outputId": "2aacccda-2fe4-4efd-f869-e9affeb5f838"
      },
      "execution_count": 8,
      "outputs": [
        {
          "output_type": "stream",
          "name": "stdout",
          "text": [
            "[[[10]\n",
            "  [20]\n",
            "  [30]\n",
            "  [40]\n",
            "  [50]\n",
            "  [60]\n",
            "  [70]]\n",
            "\n",
            " [[20]\n",
            "  [30]\n",
            "  [40]\n",
            "  [50]\n",
            "  [60]\n",
            "  [70]\n",
            "  [80]]]\n"
          ]
        }
      ]
    },
    {
      "cell_type": "code",
      "source": [
        "model = tf.keras.Sequential()\n",
        "model.add(layers.LSTM(50, activation='relu', input_shape=(n_steps, n_features)))\n",
        "model.add(layers.Dense(1))"
      ],
      "metadata": {
        "id": "08bmUiVPDeGY"
      },
      "execution_count": 9,
      "outputs": []
    },
    {
      "cell_type": "code",
      "source": [
        "model.summary()"
      ],
      "metadata": {
        "colab": {
          "base_uri": "https://localhost:8080/"
        },
        "id": "ELTHRFfoDf5j",
        "outputId": "497a5b5d-d67a-48c0-b87a-328393fdfd23"
      },
      "execution_count": 10,
      "outputs": [
        {
          "output_type": "stream",
          "name": "stdout",
          "text": [
            "Model: \"sequential\"\n",
            "_________________________________________________________________\n",
            " Layer (type)                Output Shape              Param #   \n",
            "=================================================================\n",
            " lstm (LSTM)                 (None, 50)                10400     \n",
            "                                                                 \n",
            " dense (Dense)               (None, 1)                 51        \n",
            "                                                                 \n",
            "=================================================================\n",
            "Total params: 10451 (40.82 KB)\n",
            "Trainable params: 10451 (40.82 KB)\n",
            "Non-trainable params: 0 (0.00 Byte)\n",
            "_________________________________________________________________\n"
          ]
        }
      ]
    },
    {
      "cell_type": "code",
      "source": [
        "from sklearn.model_selection import train_test_split\n",
        "X_train, X_test, y_train, y_test = train_test_split(X, y, test_size=0.2)"
      ],
      "metadata": {
        "id": "Mktet23UDhTP"
      },
      "execution_count": 11,
      "outputs": []
    },
    {
      "cell_type": "code",
      "source": [
        "model.compile(optimizer=tf.keras.optimizers.Adam(0.001), loss=tf.keras.losses.MeanSquaredError())"
      ],
      "metadata": {
        "id": "qo97oleEDpgG"
      },
      "execution_count": 12,
      "outputs": []
    },
    {
      "cell_type": "code",
      "source": [
        "history = model.fit(X_train, y_train, epochs=10, validation_data=(X_test, y_test), verbose=1)"
      ],
      "metadata": {
        "colab": {
          "base_uri": "https://localhost:8080/"
        },
        "id": "1ruFi4LpD17z",
        "outputId": "d02c8aac-1045-41ce-9132-d175532fa6a1"
      },
      "execution_count": 13,
      "outputs": [
        {
          "output_type": "stream",
          "name": "stdout",
          "text": [
            "Epoch 1/10\n",
            "1/1 [==============================] - 2s 2s/step - loss: 25918.0215 - val_loss: 21587.6074\n",
            "Epoch 2/10\n",
            "1/1 [==============================] - 0s 77ms/step - loss: 23974.1465 - val_loss: 20674.9766\n",
            "Epoch 3/10\n",
            "1/1 [==============================] - 0s 76ms/step - loss: 22939.3750 - val_loss: 20180.3828\n",
            "Epoch 4/10\n",
            "1/1 [==============================] - 0s 72ms/step - loss: 22318.3906 - val_loss: 19745.6738\n",
            "Epoch 5/10\n",
            "1/1 [==============================] - 0s 72ms/step - loss: 21826.0352 - val_loss: 19348.9395\n",
            "Epoch 6/10\n",
            "1/1 [==============================] - 0s 60ms/step - loss: 21396.4023 - val_loss: 18981.5000\n",
            "Epoch 7/10\n",
            "1/1 [==============================] - 0s 56ms/step - loss: 21002.0352 - val_loss: 18613.3496\n",
            "Epoch 8/10\n",
            "1/1 [==============================] - 0s 71ms/step - loss: 20618.5977 - val_loss: 18210.5957\n",
            "Epoch 9/10\n",
            "1/1 [==============================] - 0s 93ms/step - loss: 20214.5117 - val_loss: 17725.6543\n",
            "Epoch 10/10\n",
            "1/1 [==============================] - 0s 87ms/step - loss: 19756.1582 - val_loss: 17133.4473\n"
          ]
        }
      ]
    },
    {
      "cell_type": "code",
      "source": [
        "test_data = np.array([90, 100, 110, 120, 130, 140, 150])\n",
        "test_data = test_data.reshape((1, n_steps, n_features))\n",
        "test_data"
      ],
      "metadata": {
        "colab": {
          "base_uri": "https://localhost:8080/"
        },
        "id": "B19kAlsoECBc",
        "outputId": "6c044769-0088-4bba-e4d4-54583b80e6ed"
      },
      "execution_count": 14,
      "outputs": [
        {
          "output_type": "execute_result",
          "data": {
            "text/plain": [
              "array([[[ 90],\n",
              "        [100],\n",
              "        [110],\n",
              "        [120],\n",
              "        [130],\n",
              "        [140],\n",
              "        [150]]])"
            ]
          },
          "metadata": {},
          "execution_count": 14
        }
      ]
    },
    {
      "cell_type": "code",
      "source": [
        "predictNextNumber = model.predict(test_data, verbose=1)\n",
        "print(predictNextNumber)"
      ],
      "metadata": {
        "colab": {
          "base_uri": "https://localhost:8080/"
        },
        "id": "3-LNBnHFED4n",
        "outputId": "268af2ee-c6f4-4f20-a94e-603311733c6e"
      },
      "execution_count": 15,
      "outputs": [
        {
          "output_type": "stream",
          "name": "stdout",
          "text": [
            "1/1 [==============================] - 0s 217ms/step\n",
            "[[8.981507]]\n"
          ]
        }
      ]
    },
    {
      "cell_type": "code",
      "source": [
        "# Building graphs for the model:\n",
        "\n",
        "fig = plt.figure()\n",
        "fig.suptitle(\"Adam, lr=0.001, one hidden layer\")\n",
        "\n",
        "ax = fig.add_subplot(1,1, 1)\n",
        "ax.set_title('Cost')\n",
        "ax.plot(history.history['loss'], label='Training')\n",
        "ax.plot(history.history['val_loss'], label='Validation')\n",
        "ax.legend()\n"
      ],
      "metadata": {
        "colab": {
          "base_uri": "https://localhost:8080/",
          "height": 495
        },
        "id": "f1Aj4TwwEGTo",
        "outputId": "85b8d432-2d9a-4b45-8061-b842c292b13a"
      },
      "execution_count": 16,
      "outputs": [
        {
          "output_type": "execute_result",
          "data": {
            "text/plain": [
              "<matplotlib.legend.Legend at 0x7e85d66bb4f0>"
            ]
          },
          "metadata": {},
          "execution_count": 16
        },
        {
          "output_type": "display_data",
          "data": {
            "text/plain": [
              "<Figure size 640x480 with 1 Axes>"
            ],
            "image/png": "[encoded data removed]"
          },
          "metadata": {}
        }
      ]
    }
  ]
}