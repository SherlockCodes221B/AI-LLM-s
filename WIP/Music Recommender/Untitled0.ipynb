{
  "nbformat": 4,
  "nbformat_minor": 0,
  "metadata": {
    "colab": {
      "provenance": []
    },
    "kernelspec": {
      "name": "python3",
      "display_name": "Python 3"
    },
    "language_info": {
      "name": "python"
    }
  },
  "cells": [
    {
      "cell_type": "code",
      "execution_count": 1,
      "metadata": {
        "colab": {
          "base_uri": "https://localhost:8080/",
          "height": 206
        },
        "id": "g7zS1SAzrEOE",
        "outputId": "1c2db4a3-6c71-4d1b-fa6b-512034c5b094"
      },
      "outputs": [
        {
          "output_type": "execute_result",
          "data": {
            "text/plain": [
              "  artist                   song                                        link  \\\n",
              "0   ABBA  Ahe's My Kind Of Girl  /a/abba/ahes+my+kind+of+girl_20598417.html   \n",
              "1   ABBA       Andante, Andante       /a/abba/andante+andante_20002708.html   \n",
              "2   ABBA         As Good As New        /a/abba/as+good+as+new_20003033.html   \n",
              "3   ABBA                   Bang                  /a/abba/bang_20598415.html   \n",
              "4   ABBA       Bang-A-Boomerang      /a/abba/bang+a+boomerang_20002668.html   \n",
              "\n",
              "                                                text  \n",
              "0  Look at her face, it's a wonderful face  \\r\\nA...  \n",
              "1  Take it easy with me, please  \\r\\nTouch me gen...  \n",
              "2  I'll never know why I had to go  \\r\\nWhy I had...  \n",
              "3  Making somebody happy is a question of give an...  \n",
              "4  Making somebody happy is a question of give an...  "
            ],
            "text/html": [
              "\n",
              "  <div id=\"df-35b8a548-79fa-4147-a702-29d6002b137f\" class=\"colab-df-container\">\n",
              "    <div>\n",
              "<style scoped>\n",
              "    .dataframe tbody tr th:only-of-type {\n",
              "        vertical-align: middle;\n",
              "    }\n",
              "\n",
              "    .dataframe tbody tr th {\n",
              "        vertical-align: top;\n",
              "    }\n",
              "\n",
              "    .dataframe thead th {\n",
              "        text-align: right;\n",
              "    }\n",
              "</style>\n",
              "<table border=\"1\" class=\"dataframe\">\n",
              "  <thead>\n",
              "    <tr style=\"text-align: right;\">\n",
              "      <th></th>\n",
              "      <th>artist</th>\n",
              "      <th>song</th>\n",
              "      <th>link</th>\n",
              "      <th>text</th>\n",
              "    </tr>\n",
              "  </thead>\n",
              "  <tbody>\n",
              "    <tr>\n",
              "      <th>0</th>\n",
              "      <td>ABBA</td>\n",
              "      <td>Ahe's My Kind Of Girl</td>\n",
              "      <td>/a/abba/ahes+my+kind+of+girl_20598417.html</td>\n",
              "      <td>Look at her face, it's a wonderful face  \\r\\nA...</td>\n",
              "    </tr>\n",
              "    <tr>\n",
              "      <th>1</th>\n",
              "      <td>ABBA</td>\n",
              "      <td>Andante, Andante</td>\n",
              "      <td>/a/abba/andante+andante_20002708.html</td>\n",
              "      <td>Take it easy with me, please  \\r\\nTouch me gen...</td>\n",
              "    </tr>\n",
              "    <tr>\n",
              "      <th>2</th>\n",
              "      <td>ABBA</td>\n",
              "      <td>As Good As New</td>\n",
              "      <td>/a/abba/as+good+as+new_20003033.html</td>\n",
              "      <td>I'll never know why I had to go  \\r\\nWhy I had...</td>\n",
              "    </tr>\n",
              "    <tr>\n",
              "      <th>3</th>\n",
              "      <td>ABBA</td>\n",
              "      <td>Bang</td>\n",
              "      <td>/a/abba/bang_20598415.html</td>\n",
              "      <td>Making somebody happy is a question of give an...</td>\n",
              "    </tr>\n",
              "    <tr>\n",
              "      <th>4</th>\n",
              "      <td>ABBA</td>\n",
              "      <td>Bang-A-Boomerang</td>\n",
              "      <td>/a/abba/bang+a+boomerang_20002668.html</td>\n",
              "      <td>Making somebody happy is a question of give an...</td>\n",
              "    </tr>\n",
              "  </tbody>\n",
              "</table>\n",
              "</div>\n",
              "    <div class=\"colab-df-buttons\">\n",
              "\n",
              "  <div class=\"colab-df-container\">\n",
              "    <button class=\"colab-df-convert\" onclick=\"convertToInteractive('df-35b8a548-79fa-4147-a702-29d6002b137f')\"\n",
              "            title=\"Convert this dataframe to an interactive table.\"\n",
              "            style=\"display:none;\">\n",
              "\n",
              "  <svg xmlns=\"http://www.w3.org/2000/svg\" height=\"24px\" viewBox=\"0 -960 960 960\">\n",
              "    <path d=\"M120-120v-720h720v720H120Zm60-500h600v-160H180v160Zm220 220h160v-160H400v160Zm0 220h160v-160H400v160ZM180-400h160v-160H180v160Zm440 0h160v-160H620v160ZM180-180h160v-160H180v160Zm440 0h160v-160H620v160Z\"/>\n",
              "  </svg>\n",
              "    </button>\n",
              "\n",
              "  <style>\n",
              "    .colab-df-container {\n",
              "      display:flex;\n",
              "      gap: 12px;\n",
              "    }\n",
              "\n",
              "    .colab-df-convert {\n",
              "      background-color: #E8F0FE;\n",
              "      border: none;\n",
              "      border-radius: 50%;\n",
              "      cursor: pointer;\n",
              "      display: none;\n",
              "      fill: #1967D2;\n",
              "      height: 32px;\n",
              "      padding: 0 0 0 0;\n",
              "      width: 32px;\n",
              "    }\n",
              "\n",
              "    .colab-df-convert:hover {\n",
              "      background-color: #E2EBFA;\n",
              "      box-shadow: 0px 1px 2px rgba(60, 64, 67, 0.3), 0px 1px 3px 1px rgba(60, 64, 67, 0.15);\n",
              "      fill: #174EA6;\n",
              "    }\n",
              "\n",
              "    .colab-df-buttons div {\n",
              "      margin-bottom: 4px;\n",
              "    }\n",
              "\n",
              "    [theme=dark] .colab-df-convert {\n",
              "      background-color: #3B4455;\n",
              "      fill: #D2E3FC;\n",
              "    }\n",
              "\n",
              "    [theme=dark] .colab-df-convert:hover {\n",
              "      background-color: #434B5C;\n",
              "      box-shadow: 0px 1px 3px 1px rgba(0, 0, 0, 0.15);\n",
              "      filter: drop-shadow(0px 1px 2px rgba(0, 0, 0, 0.3));\n",
              "      fill: #FFFFFF;\n",
              "    }\n",
              "  </style>\n",
              "\n",
              "    <script>\n",
              "      const buttonEl =\n",
              "        document.querySelector('#df-35b8a548-79fa-4147-a702-29d6002b137f button.colab-df-convert');\n",
              "      buttonEl.style.display =\n",
              "        google.colab.kernel.accessAllowed ? 'block' : 'none';\n",
              "\n",
              "      async function convertToInteractive(key) {\n",
              "        const element = document.querySelector('#df-35b8a548-79fa-4147-a702-29d6002b137f');\n",
              "        const dataTable =\n",
              "          await google.colab.kernel.invokeFunction('convertToInteractive',\n",
              "                                                    [key], {});\n",
              "        if (!dataTable) return;\n",
              "\n",
              "        const docLinkHtml = 'Like what you see? Visit the ' +\n",
              "          '<a target=\"_blank\" href=https://colab.research.google.com/notebooks/data_table.ipynb>data table notebook</a>'\n",
              "          + ' to learn more about interactive tables.';\n",
              "        element.innerHTML = '';\n",
              "        dataTable['output_type'] = 'display_data';\n",
              "        await google.colab.output.renderOutput(dataTable, element);\n",
              "        const docLink = document.createElement('div');\n",
              "        docLink.innerHTML = docLinkHtml;\n",
              "        element.appendChild(docLink);\n",
              "      }\n",
              "    </script>\n",
              "  </div>\n",
              "\n",
              "\n",
              "<div id=\"df-7c28f3ca-23df-44d7-9700-e047c9226b5d\">\n",
              "  <button class=\"colab-df-quickchart\" onclick=\"quickchart('df-7c28f3ca-23df-44d7-9700-e047c9226b5d')\"\n",
              "            title=\"Suggest charts\"\n",
              "            style=\"display:none;\">\n",
              "\n",
              "<svg xmlns=\"http://www.w3.org/2000/svg\" height=\"24px\"viewBox=\"0 0 24 24\"\n",
              "     width=\"24px\">\n",
              "    <g>\n",
              "        <path d=\"M19 3H5c-1.1 0-2 .9-2 2v14c0 1.1.9 2 2 2h14c1.1 0 2-.9 2-2V5c0-1.1-.9-2-2-2zM9 17H7v-7h2v7zm4 0h-2V7h2v10zm4 0h-2v-4h2v4z\"/>\n",
              "    </g>\n",
              "</svg>\n",
              "  </button>\n",
              "\n",
              "<style>\n",
              "  .colab-df-quickchart {\n",
              "      --bg-color: #E8F0FE;\n",
              "      --fill-color: #1967D2;\n",
              "      --hover-bg-color: #E2EBFA;\n",
              "      --hover-fill-color: #174EA6;\n",
              "      --disabled-fill-color: #AAA;\n",
              "      --disabled-bg-color: #DDD;\n",
              "  }\n",
              "\n",
              "  [theme=dark] .colab-df-quickchart {\n",
              "      --bg-color: #3B4455;\n",
              "      --fill-color: #D2E3FC;\n",
              "      --hover-bg-color: #434B5C;\n",
              "      --hover-fill-color: #FFFFFF;\n",
              "      --disabled-bg-color: #3B4455;\n",
              "      --disabled-fill-color: #666;\n",
              "  }\n",
              "\n",
              "  .colab-df-quickchart {\n",
              "    background-color: var(--bg-color);\n",
              "    border: none;\n",
              "    border-radius: 50%;\n",
              "    cursor: pointer;\n",
              "    display: none;\n",
              "    fill: var(--fill-color);\n",
              "    height: 32px;\n",
              "    padding: 0;\n",
              "    width: 32px;\n",
              "  }\n",
              "\n",
              "  .colab-df-quickchart:hover {\n",
              "    background-color: var(--hover-bg-color);\n",
              "    box-shadow: 0 1px 2px rgba(60, 64, 67, 0.3), 0 1px 3px 1px rgba(60, 64, 67, 0.15);\n",
              "    fill: var(--button-hover-fill-color);\n",
              "  }\n",
              "\n",
              "  .colab-df-quickchart-complete:disabled,\n",
              "  .colab-df-quickchart-complete:disabled:hover {\n",
              "    background-color: var(--disabled-bg-color);\n",
              "    fill: var(--disabled-fill-color);\n",
              "    box-shadow: none;\n",
              "  }\n",
              "\n",
              "  .colab-df-spinner {\n",
              "    border: 2px solid var(--fill-color);\n",
              "    border-color: transparent;\n",
              "    border-bottom-color: var(--fill-color);\n",
              "    animation:\n",
              "      spin 1s steps(1) infinite;\n",
              "  }\n",
              "\n",
              "  @keyframes spin {\n",
              "    0% {\n",
              "      border-color: transparent;\n",
              "      border-bottom-color: var(--fill-color);\n",
              "      border-left-color: var(--fill-color);\n",
              "    }\n",
              "    20% {\n",
              "      border-color: transparent;\n",
              "      border-left-color: var(--fill-color);\n",
              "      border-top-color: var(--fill-color);\n",
              "    }\n",
              "    30% {\n",
              "      border-color: transparent;\n",
              "      border-left-color: var(--fill-color);\n",
              "      border-top-color: var(--fill-color);\n",
              "      border-right-color: var(--fill-color);\n",
              "    }\n",
              "    40% {\n",
              "      border-color: transparent;\n",
              "      border-right-color: var(--fill-color);\n",
              "      border-top-color: var(--fill-color);\n",
              "    }\n",
              "    60% {\n",
              "      border-color: transparent;\n",
              "      border-right-color: var(--fill-color);\n",
              "    }\n",
              "    80% {\n",
              "      border-color: transparent;\n",
              "      border-right-color: var(--fill-color);\n",
              "      border-bottom-color: var(--fill-color);\n",
              "    }\n",
              "    90% {\n",
              "      border-color: transparent;\n",
              "      border-bottom-color: var(--fill-color);\n",
              "    }\n",
              "  }\n",
              "</style>\n",
              "\n",
              "  <script>\n",
              "    async function quickchart(key) {\n",
              "      const quickchartButtonEl =\n",
              "        document.querySelector('#' + key + ' button');\n",
              "      quickchartButtonEl.disabled = true;  // To prevent multiple clicks.\n",
              "      quickchartButtonEl.classList.add('colab-df-spinner');\n",
              "      try {\n",
              "        const charts = await google.colab.kernel.invokeFunction(\n",
              "            'suggestCharts', [key], {});\n",
              "      } catch (error) {\n",
              "        console.error('Error during call to suggestCharts:', error);\n",
              "      }\n",
              "      quickchartButtonEl.classList.remove('colab-df-spinner');\n",
              "      quickchartButtonEl.classList.add('colab-df-quickchart-complete');\n",
              "    }\n",
              "    (() => {\n",
              "      let quickchartButtonEl =\n",
              "        document.querySelector('#df-7c28f3ca-23df-44d7-9700-e047c9226b5d button');\n",
              "      quickchartButtonEl.style.display =\n",
              "        google.colab.kernel.accessAllowed ? 'block' : 'none';\n",
              "    })();\n",
              "  </script>\n",
              "</div>\n",
              "\n",
              "    </div>\n",
              "  </div>\n"
            ],
            "application/vnd.google.colaboratory.intrinsic+json": {
              "type": "dataframe",
              "variable_name": "data",
              "summary": "{\n  \"name\": \"data\",\n  \"rows\": 57650,\n  \"fields\": [\n    {\n      \"column\": \"artist\",\n      \"properties\": {\n        \"dtype\": \"category\",\n        \"num_unique_values\": 643,\n        \"samples\": [\n          \"Ziggy Marley\",\n          \"O.A.R.\",\n          \"Styx\"\n        ],\n        \"semantic_type\": \"\",\n        \"description\": \"\"\n      }\n    },\n    {\n      \"column\": \"song\",\n      \"properties\": {\n        \"dtype\": \"string\",\n        \"num_unique_values\": 44824,\n        \"samples\": [\n          \"Tear Me Down\",\n          \"Lakky Lady\",\n          \"They All Went To Mexico\"\n        ],\n        \"semantic_type\": \"\",\n        \"description\": \"\"\n      }\n    },\n    {\n      \"column\": \"link\",\n      \"properties\": {\n        \"dtype\": \"string\",\n        \"num_unique_values\": 57650,\n        \"samples\": [\n          \"/w/wishbone+ash/right+or+wrong_20147150.html\",\n          \"/a/aerosmith/this+little+light+of+mine_20644484.html\",\n          \"/f/fall+out+boy/dance+dance_10113666.html\"\n        ],\n        \"semantic_type\": \"\",\n        \"description\": \"\"\n      }\n    },\n    {\n      \"column\": \"text\",\n      \"properties\": {\n        \"dtype\": \"string\",\n        \"num_unique_values\": 57494,\n        \"samples\": [\n          \"When the grey skies turn to blue  \\r\\nAnd the dark clouds blow away  \\r\\nIn the morning of a new life  \\r\\nWhen the sun comes shining through  \\r\\nWhen the grey skies turn to blue  \\r\\nIn the morning of a new life  \\r\\nWhen the sun comes shining through  \\r\\nWhen the grey skies turn to blue  \\r\\nMeet me on a bright and windy day  \\r\\nWhen the breeze has blown  \\r\\nThe gray skies far away  \\r\\nHigh upon a hillside  \\r\\nWhen the sun comes shining through  \\r\\nAnd the grey skies turn to blue  \\r\\nWhen the grey skies turn to blue  \\r\\nWhen the grey skies turn to blue  \\r\\n\\r\\n\",\n          \"I met a girl a wonderful girl  \\r\\nWho's really got a lot to recommend her for a girl  \\r\\nFabulous creature without any doubt  \\r\\nHey what am I getting so excited about  \\r\\nShe's just a girl an everyday girl  \\r\\nAnd yet I guess she's really rather special for a girl  \\r\\nFor once you've seen her the others are not  \\r\\nHey what am I getting so excited about  \\r\\nBut so what what has she got others have not  \\r\\nTwo eyes two lips a nose all girls have some of those  \\r\\nBut when she looks up at me what do I see  \\r\\nThe most enchanting face my pulse begins to race  \\r\\nHey I met a girl a marvelous girl  \\r\\nShe rarer than uranium and fairer than a pearl  \\r\\nFound me a treasure and I want to shout  \\r\\nHey what am I getting so excited about  \\r\\nBut so what what has she got others have not  \\r\\nTwo eyes two lips a nose all girls have some of those  \\r\\nBut when she looks up at me what do I see  \\r\\nThe most enchanting face my pulse begins to race  \\r\\n(I got a girl a marvelous girl)  \\r\\n(She rarer than uranium and fairer than a pearl)  \\r\\nFound me a treasure and I want to shout  \\r\\nThis is what am I getting so excited about  \\r\\n(He met a girl) and I fell in love today\\r\\n\\r\\n\",\n          \"She's over by the corner  \\r\\nGot her hands by her sides  \\r\\nThey hit her harder harder harder  \\r\\nTill they thought she might die  \\r\\n  \\r\\nWell I got a foggy notion,  \\r\\nDo it again  \\r\\nOver by the corner,  \\r\\nDo it again  \\r\\nI got my calamine lotion baby,  \\r\\nDo it again  \\r\\nI got a foggy notion,  \\r\\nDo it again  \\r\\n  \\r\\nShe made me do something  \\r\\nThat I never did before  \\r\\nI rushed right down  \\r\\nTo a flower store  \\r\\nI bought her a bundle  \\r\\nA beautiful batch  \\r\\nDon't you know something,  \\r\\nShe sent 'em right back  \\r\\n  \\r\\nSally Mae, Sally Mae,  \\r\\nSally Mae, Sally Mae  \\r\\nSally Mae, Sally Mae,  \\r\\nSally Mae, Sally Mae\\r\\n\\r\\n\"\n        ],\n        \"semantic_type\": \"\",\n        \"description\": \"\"\n      }\n    }\n  ]\n}"
            }
          },
          "metadata": {},
          "execution_count": 1
        }
      ],
      "source": [
        "import pandas as pd\n",
        "import numpy as np\n",
        "data = pd.read_csv('/content/drive/MyDrive/Colab Notebooks/AI/Music Recommender/spotify_millsongdata.csv')\n",
        "data.head()"
      ]
    },
    {
      "cell_type": "code",
      "source": [
        "df = data['text']\n",
        "df.head()"
      ],
      "metadata": {
        "colab": {
          "base_uri": "https://localhost:8080/",
          "height": 744
        },
        "id": "NdJBWQgpAZez",
        "outputId": "4390ad21-d05a-49de-eea7-e3230542b04d"
      },
      "execution_count": 2,
      "outputs": [
        {
          "output_type": "execute_result",
          "data": {
            "text/plain": [
              "0    Look at her face, it's a wonderful face  \\r\\nA...\n",
              "1    Take it easy with me, please  \\r\\nTouch me gen...\n",
              "2    I'll never know why I had to go  \\r\\nWhy I had...\n",
              "3    Making somebody happy is a question of give an...\n",
              "4    Making somebody happy is a question of give an...\n",
              "Name: text, dtype: object"
            ],
            "text/html": [
              "<table border=\"1\" class=\"dataframe\">\n",
              "  <thead>\n",
              "    <tr style=\"text-align: right;\">\n",
              "      <th></th>\n",
              "      <th>text</th>\n",
              "    </tr>\n",
              "  </thead>\n",
              "  <tbody>\n",
              "    <tr>\n",
              "      <th>0</th>\n",
              "      <td>Look at her face, it's a wonderful face  \\r\\nAnd it means something special to me  \\r\\nLook at the way that she smiles when she sees me  \\r\\nHow lucky can one fellow be?  \\r\\n  \\r\\nShe's just my kind of girl, she makes me feel fine  \\r\\nWho could ever believe that she could be mine?  \\r\\nShe's just my kind of girl, without her I'm blue  \\r\\nAnd if she ever leaves me what could I do, what could I do?  \\r\\n  \\r\\nAnd when we go for a walk in the park  \\r\\nAnd she holds me and squeezes my hand  \\r\\nWe'll go on walking for hours and talking  \\r\\nAbout all the things that we plan  \\r\\n  \\r\\nShe's just my kind of girl, she makes me feel fine  \\r\\nWho could ever believe that she could be mine?  \\r\\nShe's just my kind of girl, without her I'm blue  \\r\\nAnd if she ever leaves me what could I do, what could I do?\\r\\n\\r\\n</td>\n",
              "    </tr>\n",
              "    <tr>\n",
              "      <th>1</th>\n",
              "      <td>Take it easy with me, please  \\r\\nTouch me gently like a summer evening breeze  \\r\\nTake your time, make it slow  \\r\\nAndante, Andante  \\r\\nJust let the feeling grow  \\r\\n  \\r\\nMake your fingers soft and light  \\r\\nLet your body be the velvet of the night  \\r\\nTouch my soul, you know how  \\r\\nAndante, Andante  \\r\\nGo slowly with me now  \\r\\n  \\r\\nI'm your music  \\r\\n(I am your music and I am your song)  \\r\\nI'm your song  \\r\\n(I am your music and I am your song)  \\r\\nPlay me time and time again and make me strong  \\r\\n(Play me again 'cause you're making me strong)  \\r\\nMake me sing, make me sound  \\r\\n(You make me sing and you make me)  \\r\\nAndante, Andante  \\r\\nTread lightly on my ground  \\r\\nAndante, Andante  \\r\\nOh please don't let me down  \\r\\n  \\r\\nThere's a shimmer in your eyes  \\r\\nLike the feeling of a thousand butterflies  \\r\\nPlease don't talk, go on, play  \\r\\nAndante, Andante  \\r\\nAnd let me float away  \\r\\n  \\r\\nI'm your music  \\r\\n(I am your music and I am your song)  \\r\\nI'm your song  \\r\\n(I am your music and I am your song)  \\r\\nPlay me time and time again and make me strong  \\r\\n(Play me again 'cause you're making me strong)  \\r\\nMake me sing, make me sound  \\r\\n(You make me sing and you make me)  \\r\\nAndante, Andante  \\r\\nTread lightly on my ground  \\r\\nAndante, Andante  \\r\\nOh please don't let me down  \\r\\n  \\r\\nMake me sing, make me sound  \\r\\n(You make me sing and you make me)  \\r\\nAndante, Andante  \\r\\nTread lightly on my ground  \\r\\nAndante, Andante  \\r\\nOh please don't let me down  \\r\\nAndante, Andante  \\r\\nOh please don't let me down\\r\\n\\r\\n</td>\n",
              "    </tr>\n",
              "    <tr>\n",
              "      <th>2</th>\n",
              "      <td>I'll never know why I had to go  \\r\\nWhy I had to put up such a lousy rotten show  \\r\\nBoy, I was tough, packing all my stuff  \\r\\nSaying I don't need you anymore, I've had enough  \\r\\nAnd now, look at me standing here again 'cause I found out that  \\r\\nMa ma ma ma ma ma ma ma ma ma ma ma ma ma ma ma my life is here  \\r\\nGotta have you near  \\r\\n  \\r\\nAs good as new, my love for you  \\r\\nAnd keeping it that way is my intention  \\r\\nAs good as new and growing too  \\r\\nYes, I think it's taking on a new dimension  \\r\\nIt's as good as new, my love for you  \\r\\nJust like it used to be and even better  \\r\\nAs good as new, thank God it's true  \\r\\nDarling, we were always meant to stay together  \\r\\n  \\r\\nFeel like a creep, never felt so cheap  \\r\\nNever had a notion that my love could be so deep  \\r\\nHow could I make such a dumb mistake  \\r\\nNow I know I'm not entitled to another break  \\r\\nBut please, baby, I beg you to forgive 'cause I found out that  \\r\\nMa ma ma ma ma ma ma ma ma ma ma ma ma ma ma ma my life is here  \\r\\nGotta get you near  \\r\\n  \\r\\nI thought that our love was at an end but here I am again  \\r\\n  \\r\\nAs good as new, my love for you  \\r\\nAnd keeping it that way is my intention  \\r\\nAs good as new and growing too  \\r\\nYes, I think it's taking on a new dimension  \\r\\nIt's as good as new, my love for you  \\r\\nJust like it used to be and even better  \\r\\nAs good as new, thank God it's true  \\r\\nDarling, we were always meant to stay together  \\r\\n  \\r\\nYes the love I have for you feels as good as new  \\r\\nDarling, we were always meant to stay together\\r\\n\\r\\n</td>\n",
              "    </tr>\n",
              "    <tr>\n",
              "      <th>3</th>\n",
              "      <td>Making somebody happy is a question of give and take  \\r\\nYou can learn how to show it so come on, give yourself a break  \\r\\nEvery smile and every little touch  \\r\\nDon't you know that they mean so much  \\r\\nSweet sweet kisses so tender  \\r\\nAlways will return to sender  \\r\\n  \\r\\nLike a bang, a boom-a-boomerang  \\r\\nDum-be-dum-dum be-dum-be-dum-dum  \\r\\nOh bang, a boom-a-boomerang  \\r\\nLove is a tune you hum-de-hum-hum  \\r\\nSo give it away, I think you'll learn  \\r\\nYou'll get love in return  \\r\\nSo bang, a boom-a-boomerang is love  \\r\\nA boom-a-boomerang is love  \\r\\n  \\r\\nLove is always around and you can look for it anywhere  \\r\\nWhen you feel that you've found it my advice is to take good care  \\r\\nNever use it as a selfish tool  \\r\\nNever ever be such a fool  \\r\\nEvery feeling you're showing  \\r\\nIs a boomerang you're throwing  \\r\\n  \\r\\nYes a bang, a boom-a-boomerang  \\r\\nDum-be-dum-dum be-dum-be-dum-dum  \\r\\nOh bang, a boom-a-boomerang  \\r\\nLove is a tune you hum-de-hum-hum  \\r\\nSo give it away, I think you'll learn  \\r\\nYou'll get love in return  \\r\\nSo bang, a boom-a-boomerang is love  \\r\\n  \\r\\nAnd if you're warm and tender  \\r\\nI'll kiss you, return to sender  \\r\\nPlease surrender  \\r\\n  \\r\\nBang, a boom-a-boomerang  \\r\\nDum-be-dum-dum be-dum-be-dum-dum  \\r\\nOh bang, a boom-a-boomerang is love  \\r\\nA boom-a-boomerang is love\\r\\n\\r\\n</td>\n",
              "    </tr>\n",
              "    <tr>\n",
              "      <th>4</th>\n",
              "      <td>Making somebody happy is a question of give and take  \\r\\nYou can learn how to show it so come on, give yourself a break  \\r\\nEvery smile and every little touch  \\r\\nDon't you know that they mean so much  \\r\\nSweet sweet kisses so tender  \\r\\nAlways will return to sender  \\r\\n  \\r\\nLike a bang, a boom-a-boomerang  \\r\\nDumb-be-dumb-dumb be-dumb-be-dumb-dumb  \\r\\nOh bang, a boom-a-boomerang  \\r\\nLove is a tune you hum-de-hum-hum  \\r\\nBy giving away, I think you'll learn  \\r\\nYou'll get love in return  \\r\\nSo bang, a boom-a-boomerang is love  \\r\\nA boom-a-boomerang is love  \\r\\n  \\r\\nLove is always around and you can look for it anywhere  \\r\\nWhen you feel that you've found it my advice is to take good care  \\r\\nNever use it as a selfish tool  \\r\\nNever ever be such a fool  \\r\\nEvery feeling you're showing  \\r\\nIs a boomerang you're throwing  \\r\\n  \\r\\nYes a bang, a boom-a-boomerang  \\r\\nDumb-be-dumb-dumb be-dumb-be-dumb-dumb  \\r\\nOh bang, a boom-a-boomerang  \\r\\nLove is a tune you hum-de-hum-hum  \\r\\nBy giving away, I think you'll learn  \\r\\nYou'll get love in return  \\r\\nSo bang, a boom-a-boomerang is love  \\r\\n  \\r\\nAnd if you're warm and tender  \\r\\nI'll kiss you, return to sender  \\r\\nPlease surrender  \\r\\n  \\r\\nBang, a boom-a-boomerang  \\r\\nDumb-be-dumb-dumb be-dumb-be-dumb-dumb  \\r\\nOh bang, a boom-a-boomerang is love  \\r\\nA boom-a-boomerang is love\\r\\n\\r\\n</td>\n",
              "    </tr>\n",
              "  </tbody>\n",
              "</table><br><label><b>dtype:</b> object</label>"
            ]
          },
          "metadata": {},
          "execution_count": 2
        }
      ]
    },
    {
      "cell_type": "code",
      "source": [
        "import re\n",
        "def clean_text(text):\n",
        "  text = re.sub(r'[\\r\\n?.,]+', ' ', text)\n",
        "  return text"
      ],
      "metadata": {
        "id": "zrUfAHz0BZ1b"
      },
      "execution_count": 3,
      "outputs": []
    },
    {
      "cell_type": "code",
      "source": [
        "df = df.apply(lambda x: clean_text(x))"
      ],
      "metadata": {
        "id": "W4PaRVGsBQtX"
      },
      "execution_count": 4,
      "outputs": []
    },
    {
      "cell_type": "code",
      "source": [
        "df.head()"
      ],
      "metadata": {
        "colab": {
          "base_uri": "https://localhost:8080/",
          "height": 674
        },
        "id": "B4_xrhiNB-TX",
        "outputId": "950424e3-9a7d-4508-dbf7-71bdbfde91aa"
      },
      "execution_count": 5,
      "outputs": [
        {
          "output_type": "execute_result",
          "data": {
            "text/plain": [
              "0    Look at her face  it's a wonderful face   And ...\n",
              "1    Take it easy with me  please   Touch me gently...\n",
              "2    I'll never know why I had to go   Why I had to...\n",
              "3    Making somebody happy is a question of give an...\n",
              "4    Making somebody happy is a question of give an...\n",
              "Name: text, dtype: object"
            ],
            "text/html": [
              "<table border=\"1\" class=\"dataframe\">\n",
              "  <thead>\n",
              "    <tr style=\"text-align: right;\">\n",
              "      <th></th>\n",
              "      <th>text</th>\n",
              "    </tr>\n",
              "  </thead>\n",
              "  <tbody>\n",
              "    <tr>\n",
              "      <th>0</th>\n",
              "      <td>Look at her face  it's a wonderful face   And it means something special to me   Look at the way that she smiles when she sees me   How lucky can one fellow be       She's just my kind of girl  she makes me feel fine   Who could ever believe that she could be mine    She's just my kind of girl  without her I'm blue   And if she ever leaves me what could I do  what could I do       And when we go for a walk in the park   And she holds me and squeezes my hand   We'll go on walking for hours and talking   About all the things that we plan      She's just my kind of girl  she makes me feel fine   Who could ever believe that she could be mine    She's just my kind of girl  without her I'm blue   And if she ever leaves me what could I do  what could I do</td>\n",
              "    </tr>\n",
              "    <tr>\n",
              "      <th>1</th>\n",
              "      <td>Take it easy with me  please   Touch me gently like a summer evening breeze   Take your time  make it slow   Andante  Andante   Just let the feeling grow      Make your fingers soft and light   Let your body be the velvet of the night   Touch my soul  you know how   Andante  Andante   Go slowly with me now      I'm your music   (I am your music and I am your song)   I'm your song   (I am your music and I am your song)   Play me time and time again and make me strong   (Play me again 'cause you're making me strong)   Make me sing  make me sound   (You make me sing and you make me)   Andante  Andante   Tread lightly on my ground   Andante  Andante   Oh please don't let me down      There's a shimmer in your eyes   Like the feeling of a thousand butterflies   Please don't talk  go on  play   Andante  Andante   And let me float away      I'm your music   (I am your music and I am your song)   I'm your song   (I am your music and I am your song)   Play me time and time again and make me strong   (Play me again 'cause you're making me strong)   Make me sing  make me sound   (You make me sing and you make me)   Andante  Andante   Tread lightly on my ground   Andante  Andante   Oh please don't let me down      Make me sing  make me sound   (You make me sing and you make me)   Andante  Andante   Tread lightly on my ground   Andante  Andante   Oh please don't let me down   Andante  Andante   Oh please don't let me down</td>\n",
              "    </tr>\n",
              "    <tr>\n",
              "      <th>2</th>\n",
              "      <td>I'll never know why I had to go   Why I had to put up such a lousy rotten show   Boy  I was tough  packing all my stuff   Saying I don't need you anymore  I've had enough   And now  look at me standing here again 'cause I found out that   Ma ma ma ma ma ma ma ma ma ma ma ma ma ma ma ma my life is here   Gotta have you near      As good as new  my love for you   And keeping it that way is my intention   As good as new and growing too   Yes  I think it's taking on a new dimension   It's as good as new  my love for you   Just like it used to be and even better   As good as new  thank God it's true   Darling  we were always meant to stay together      Feel like a creep  never felt so cheap   Never had a notion that my love could be so deep   How could I make such a dumb mistake   Now I know I'm not entitled to another break   But please  baby  I beg you to forgive 'cause I found out that   Ma ma ma ma ma ma ma ma ma ma ma ma ma ma ma ma my life is here   Gotta get you near      I thought that our love was at an end but here I am again      As good as new  my love for you   And keeping it that way is my intention   As good as new and growing too   Yes  I think it's taking on a new dimension   It's as good as new  my love for you   Just like it used to be and even better   As good as new  thank God it's true   Darling  we were always meant to stay together      Yes the love I have for you feels as good as new   Darling  we were always meant to stay together</td>\n",
              "    </tr>\n",
              "    <tr>\n",
              "      <th>3</th>\n",
              "      <td>Making somebody happy is a question of give and take   You can learn how to show it so come on  give yourself a break   Every smile and every little touch   Don't you know that they mean so much   Sweet sweet kisses so tender   Always will return to sender      Like a bang  a boom-a-boomerang   Dum-be-dum-dum be-dum-be-dum-dum   Oh bang  a boom-a-boomerang   Love is a tune you hum-de-hum-hum   So give it away  I think you'll learn   You'll get love in return   So bang  a boom-a-boomerang is love   A boom-a-boomerang is love      Love is always around and you can look for it anywhere   When you feel that you've found it my advice is to take good care   Never use it as a selfish tool   Never ever be such a fool   Every feeling you're showing   Is a boomerang you're throwing      Yes a bang  a boom-a-boomerang   Dum-be-dum-dum be-dum-be-dum-dum   Oh bang  a boom-a-boomerang   Love is a tune you hum-de-hum-hum   So give it away  I think you'll learn   You'll get love in return   So bang  a boom-a-boomerang is love      And if you're warm and tender   I'll kiss you  return to sender   Please surrender      Bang  a boom-a-boomerang   Dum-be-dum-dum be-dum-be-dum-dum   Oh bang  a boom-a-boomerang is love   A boom-a-boomerang is love</td>\n",
              "    </tr>\n",
              "    <tr>\n",
              "      <th>4</th>\n",
              "      <td>Making somebody happy is a question of give and take   You can learn how to show it so come on  give yourself a break   Every smile and every little touch   Don't you know that they mean so much   Sweet sweet kisses so tender   Always will return to sender      Like a bang  a boom-a-boomerang   Dumb-be-dumb-dumb be-dumb-be-dumb-dumb   Oh bang  a boom-a-boomerang   Love is a tune you hum-de-hum-hum   By giving away  I think you'll learn   You'll get love in return   So bang  a boom-a-boomerang is love   A boom-a-boomerang is love      Love is always around and you can look for it anywhere   When you feel that you've found it my advice is to take good care   Never use it as a selfish tool   Never ever be such a fool   Every feeling you're showing   Is a boomerang you're throwing      Yes a bang  a boom-a-boomerang   Dumb-be-dumb-dumb be-dumb-be-dumb-dumb   Oh bang  a boom-a-boomerang   Love is a tune you hum-de-hum-hum   By giving away  I think you'll learn   You'll get love in return   So bang  a boom-a-boomerang is love      And if you're warm and tender   I'll kiss you  return to sender   Please surrender      Bang  a boom-a-boomerang   Dumb-be-dumb-dumb be-dumb-be-dumb-dumb   Oh bang  a boom-a-boomerang is love   A boom-a-boomerang is love</td>\n",
              "    </tr>\n",
              "  </tbody>\n",
              "</table><br><label><b>dtype:</b> object</label>"
            ]
          },
          "metadata": {},
          "execution_count": 5
        }
      ]
    },
    {
      "cell_type": "code",
      "source": [
        "import nltk\n",
        "from nltk.tokenize import word_tokenize\n",
        "nltk.download('punkt')\n",
        "from nltk.stem.porter import PorterStemmer"
      ],
      "metadata": {
        "colab": {
          "base_uri": "https://localhost:8080/"
        },
        "id": "zWyZXLG3ExGv",
        "outputId": "52ac411d-acbe-4bb9-93c2-8512195fdbed"
      },
      "execution_count": 6,
      "outputs": [
        {
          "output_type": "stream",
          "name": "stderr",
          "text": [
            "[nltk_data] Downloading package punkt to /root/nltk_data...\n",
            "[nltk_data]   Package punkt is already up-to-date!\n"
          ]
        }
      ]
    },
    {
      "cell_type": "code",
      "source": [
        "stemmer = PorterStemmer()\n",
        "def tokenisation(text):\n",
        "  tokens = word_tokenize(text)\n",
        "  stemmed_tokens = [stemmer.stem(token) for token in tokens]\n",
        "  return \" \".join(stemmed_tokens)\n",
        "df = df.apply(tokenisation)"
      ],
      "metadata": {
        "id": "boPa8BOCEzTE"
      },
      "execution_count": 7,
      "outputs": []
    },
    {
      "cell_type": "code",
      "source": [
        "df.head()"
      ],
      "metadata": {
        "colab": {
          "base_uri": "https://localhost:8080/",
          "height": 640
        },
        "id": "qVJ94iW5Fav3",
        "outputId": "f4497ad7-044a-4827-a88d-9686e5c10937"
      },
      "execution_count": 8,
      "outputs": [
        {
          "output_type": "execute_result",
          "data": {
            "text/plain": [
              "0    look at her face it 's a wonder face and it me...\n",
              "1    take it easi with me pleas touch me gentli lik...\n",
              "2    i 'll never know whi i had to go whi i had to ...\n",
              "3    make somebodi happi is a question of give and ...\n",
              "4    make somebodi happi is a question of give and ...\n",
              "Name: text, dtype: object"
            ],
            "text/html": [
              "<table border=\"1\" class=\"dataframe\">\n",
              "  <thead>\n",
              "    <tr style=\"text-align: right;\">\n",
              "      <th></th>\n",
              "      <th>text</th>\n",
              "    </tr>\n",
              "  </thead>\n",
              "  <tbody>\n",
              "    <tr>\n",
              "      <th>0</th>\n",
              "      <td>look at her face it 's a wonder face and it mean someth special to me look at the way that she smile when she see me how lucki can one fellow be she 's just my kind of girl she make me feel fine who could ever believ that she could be mine she 's just my kind of girl without her i 'm blue and if she ever leav me what could i do what could i do and when we go for a walk in the park and she hold me and squeez my hand we 'll go on walk for hour and talk about all the thing that we plan she 's just my kind of girl she make me feel fine who could ever believ that she could be mine she 's just my kind of girl without her i 'm blue and if she ever leav me what could i do what could i do</td>\n",
              "    </tr>\n",
              "    <tr>\n",
              "      <th>1</th>\n",
              "      <td>take it easi with me pleas touch me gentli like a summer even breez take your time make it slow andant andant just let the feel grow make your finger soft and light let your bodi be the velvet of the night touch my soul you know how andant andant go slowli with me now i 'm your music ( i am your music and i am your song ) i 'm your song ( i am your music and i am your song ) play me time and time again and make me strong ( play me again 'caus you 're make me strong ) make me sing make me sound ( you make me sing and you make me ) andant andant tread lightli on my ground andant andant oh pleas do n't let me down there 's a shimmer in your eye like the feel of a thousand butterfli pleas do n't talk go on play andant andant and let me float away i 'm your music ( i am your music and i am your song ) i 'm your song ( i am your music and i am your song ) play me time and time again and make me strong ( play me again 'caus you 're make me strong ) make me sing make me sound ( you make me sing and you make me ) andant andant tread lightli on my ground andant andant oh pleas do n't let me down make me sing make me sound ( you make me sing and you make me ) andant andant tread lightli on my ground andant andant oh pleas do n't let me down andant andant oh pleas do n't let me down</td>\n",
              "    </tr>\n",
              "    <tr>\n",
              "      <th>2</th>\n",
              "      <td>i 'll never know whi i had to go whi i had to put up such a lousi rotten show boy i wa tough pack all my stuff say i do n't need you anymor i 've had enough and now look at me stand here again 'caus i found out that ma ma ma ma ma ma ma ma ma ma ma ma ma ma ma ma my life is here got ta have you near as good as new my love for you and keep it that way is my intent as good as new and grow too ye i think it 's take on a new dimens it 's as good as new my love for you just like it use to be and even better as good as new thank god it 's true darl we were alway meant to stay togeth feel like a creep never felt so cheap never had a notion that my love could be so deep how could i make such a dumb mistak now i know i 'm not entitl to anoth break but pleas babi i beg you to forgiv 'caus i found out that ma ma ma ma ma ma ma ma ma ma ma ma ma ma ma ma my life is here got ta get you near i thought that our love wa at an end but here i am again as good as new my love for you and keep it that way is my intent as good as new and grow too ye i think it 's take on a new dimens it 's as good as new my love for you just like it use to be and even better as good as new thank god it 's true darl we were alway meant to stay togeth ye the love i have for you feel as good as new darl we were alway meant to stay togeth</td>\n",
              "    </tr>\n",
              "    <tr>\n",
              "      <th>3</th>\n",
              "      <td>make somebodi happi is a question of give and take you can learn how to show it so come on give yourself a break everi smile and everi littl touch do n't you know that they mean so much sweet sweet kiss so tender alway will return to sender like a bang a boom-a-boomerang dum-be-dum-dum be-dum-be-dum-dum oh bang a boom-a-boomerang love is a tune you hum-de-hum-hum so give it away i think you 'll learn you 'll get love in return so bang a boom-a-boomerang is love a boom-a-boomerang is love love is alway around and you can look for it anywher when you feel that you 've found it my advic is to take good care never use it as a selfish tool never ever be such a fool everi feel you 're show is a boomerang you 're throw ye a bang a boom-a-boomerang dum-be-dum-dum be-dum-be-dum-dum oh bang a boom-a-boomerang love is a tune you hum-de-hum-hum so give it away i think you 'll learn you 'll get love in return so bang a boom-a-boomerang is love and if you 're warm and tender i 'll kiss you return to sender pleas surrend bang a boom-a-boomerang dum-be-dum-dum be-dum-be-dum-dum oh bang a boom-a-boomerang is love a boom-a-boomerang is love</td>\n",
              "    </tr>\n",
              "    <tr>\n",
              "      <th>4</th>\n",
              "      <td>make somebodi happi is a question of give and take you can learn how to show it so come on give yourself a break everi smile and everi littl touch do n't you know that they mean so much sweet sweet kiss so tender alway will return to sender like a bang a boom-a-boomerang dumb-be-dumb-dumb be-dumb-be-dumb-dumb oh bang a boom-a-boomerang love is a tune you hum-de-hum-hum by give away i think you 'll learn you 'll get love in return so bang a boom-a-boomerang is love a boom-a-boomerang is love love is alway around and you can look for it anywher when you feel that you 've found it my advic is to take good care never use it as a selfish tool never ever be such a fool everi feel you 're show is a boomerang you 're throw ye a bang a boom-a-boomerang dumb-be-dumb-dumb be-dumb-be-dumb-dumb oh bang a boom-a-boomerang love is a tune you hum-de-hum-hum by give away i think you 'll learn you 'll get love in return so bang a boom-a-boomerang is love and if you 're warm and tender i 'll kiss you return to sender pleas surrend bang a boom-a-boomerang dumb-be-dumb-dumb be-dumb-be-dumb-dumb oh bang a boom-a-boomerang is love a boom-a-boomerang is love</td>\n",
              "    </tr>\n",
              "  </tbody>\n",
              "</table><br><label><b>dtype:</b> object</label>"
            ]
          },
          "metadata": {},
          "execution_count": 8
        }
      ]
    },
    {
      "cell_type": "code",
      "source": [
        "from sklearn.feature_extraction.text import TfidfVectorizer\n",
        "tf_id = TfidfVectorizer(analyzer ='word', stop_words = \"english\")"
      ],
      "metadata": {
        "id": "6hmeP6SaFoQK"
      },
      "execution_count": 11,
      "outputs": []
    },
    {
      "cell_type": "code",
      "source": [
        "transformer = tf_id.fit_transform(df)"
      ],
      "metadata": {
        "id": "eALEyD2BF3Bn"
      },
      "execution_count": 13,
      "outputs": []
    },
    {
      "cell_type": "code",
      "source": [
        "from sklearn.metrics.pairwise import cosine_similarity\n",
        "similarity = cosine_similarity(transformer)"
      ],
      "metadata": {
        "id": "QTvnTMYgF8rL"
      },
      "execution_count": null,
      "outputs": []
    },
    {
      "cell_type": "code",
      "source": [
        "def recommender(text):\n",
        "    text_vector = tf_id.transform([text])\n",
        "    cosine_similarities = cosine_similarity(text_vector, transformer).flatten()\n",
        "    similar_indices = cosine_similarities.argsort()[-11:][::-1]\n",
        "    song_names = df.iloc[similar_indices[1:]]['song'].tolist()\n",
        "    return song_names"
      ],
      "metadata": {
        "id": "rSskbh0aGGDu"
      },
      "execution_count": null,
      "outputs": []
    },
    {
      "cell_type": "code",
      "source": [
        "input_text = input(\"Enter Some Text: \")\n",
        "recommendations = recommender(input_text)\n",
        "print(recommendations)"
      ],
      "metadata": {
        "id": "5HaFFzJMIWHl"
      },
      "execution_count": null,
      "outputs": []
    }
  ]
}